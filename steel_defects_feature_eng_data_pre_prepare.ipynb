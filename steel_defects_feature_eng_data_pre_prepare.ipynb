{
  "nbformat": 4,
  "nbformat_minor": 0,
  "metadata": {
    "colab": {
      "name": "steel_defects_feature_eng_data_pre_prepare.ipynb",
      "provenance": [],
      "collapsed_sections": [],
      "machine_shape": "hm",
      "include_colab_link": true
    },
    "kernelspec": {
      "name": "python3",
      "display_name": "Python 3"
    },
    "accelerator": "GPU"
  },
  "cells": [
    {
      "cell_type": "markdown",
      "metadata": {
        "id": "view-in-github",
        "colab_type": "text"
      },
      "source": [
        "<a href=\"https://colab.research.google.com/github/ysforgithub/steel_defects_detection_classification/blob/master/steel_defects_feature_eng_data_pre_prepare.ipynb\" target=\"_parent\"><img src=\"https://colab.research.google.com/assets/colab-badge.svg\" alt=\"Open In Colab\"/></a>"
      ]
    },
    {
      "cell_type": "markdown",
      "metadata": {
        "id": "_lQMWS8cPfwJ",
        "colab_type": "text"
      },
      "source": [
        "**The Data source of this notebook is based on https://www.kaggle.com/c/severstal-steel-defect-detection/data**"
      ]
    },
    {
      "cell_type": "markdown",
      "metadata": {
        "id": "HeNM2GkZLDZ9",
        "colab_type": "text"
      },
      "source": [
        "# 1. Get access to the google drive by mount this notebook into the google drive"
      ]
    },
    {
      "cell_type": "code",
      "metadata": {
        "id": "zVYeVXvFIm7Y",
        "colab_type": "code",
        "outputId": "61409067-05fc-4421-c01d-3c4a20af5362",
        "colab": {
          "base_uri": "https://localhost:8080/",
          "height": 120
        }
      },
      "source": [
        "from google.colab import drive\n",
        "drive.mount('/content/drive')"
      ],
      "execution_count": 2,
      "outputs": [
        {
          "output_type": "stream",
          "text": [
            "Go to this URL in a browser: https://accounts.google.com/o/oauth2/auth?client_id=947318989803-6bn6qk8qdgf4n4g3pfee6491hc0brc4i.apps.googleusercontent.com&redirect_uri=urn%3aietf%3awg%3aoauth%3a2.0%3aoob&response_type=code&scope=email%20https%3a%2f%2fwww.googleapis.com%2fauth%2fdocs.test%20https%3a%2f%2fwww.googleapis.com%2fauth%2fdrive%20https%3a%2f%2fwww.googleapis.com%2fauth%2fdrive.photos.readonly%20https%3a%2f%2fwww.googleapis.com%2fauth%2fpeopleapi.readonly\n",
            "\n",
            "Enter your authorization code:\n",
            "··········\n",
            "Mounted at /content/drive\n"
          ],
          "name": "stdout"
        }
      ]
    },
    {
      "cell_type": "markdown",
      "metadata": {
        "id": "fjpJlv4LsQEM",
        "colab_type": "text"
      },
      "source": [
        "# 2. Change the working directory to the target folder "
      ]
    },
    {
      "cell_type": "code",
      "metadata": {
        "id": "uvlvn-kbiJEj",
        "colab_type": "code",
        "outputId": "023e79a3-0a28-4f5e-a4f2-c5bf0c54aa81",
        "colab": {
          "base_uri": "https://localhost:8080/",
          "height": 33
        }
      },
      "source": [
        "import os\n",
        "os.chdir('/content/drive/My Drive/Colab Notebooks/kaggle/steel defect')\n",
        "# print out the current working directory\n",
        "cwd = os.getcwd()\n",
        "print(cwd)"
      ],
      "execution_count": 3,
      "outputs": [
        {
          "output_type": "stream",
          "text": [
            "/content/drive/My Drive/Colab Notebooks/kaggle/steel defect\n"
          ],
          "name": "stdout"
        }
      ]
    },
    {
      "cell_type": "markdown",
      "metadata": {
        "id": "jrfHjhmnh-4t",
        "colab_type": "text"
      },
      "source": [
        "# 3. This section is to create a new df contains three columns: the image Id, the image class Id and the encoded_pixels  "
      ]
    },
    {
      "cell_type": "code",
      "metadata": {
        "id": "WYLgvj81i0zW",
        "colab_type": "code",
        "outputId": "d69173c2-01a2-4913-fedb-58c4a89d73db",
        "colab": {
          "base_uri": "https://localhost:8080/",
          "height": 268
        }
      },
      "source": [
        "import pandas as pd\n",
        "train_X=pd.read_csv(\"train.csv\")\n",
        "# get the idea of how many features and feature title\n",
        "print (train_X.head(10))\n",
        "# print out the image example1's class Id and image Id \n",
        "print ('the image1 class ID:',int(train_X['ImageId_ClassId'][0][-1]))\n",
        "print ('the image1 ID:',train_X['ImageId_ClassId'][0][:-6])\n",
        "# print out the image example2's class Id and image ID \n",
        "print ('the image2 class ID:',int(train_X['ImageId_ClassId'][4][-1]))\n",
        "print ('the image2 class ID:',train_X['ImageId_ClassId'][4][:-6])"
      ],
      "execution_count": 4,
      "outputs": [
        {
          "output_type": "stream",
          "text": [
            "   ImageId_ClassId                                      EncodedPixels\n",
            "0  0002cc93b.jpg_1  29102 12 29346 24 29602 24 29858 24 30114 24 3...\n",
            "1  0002cc93b.jpg_2                                                NaN\n",
            "2  0002cc93b.jpg_3                                                NaN\n",
            "3  0002cc93b.jpg_4                                                NaN\n",
            "4  00031f466.jpg_1                                                NaN\n",
            "5  00031f466.jpg_2                                                NaN\n",
            "6  00031f466.jpg_3                                                NaN\n",
            "7  00031f466.jpg_4                                                NaN\n",
            "8  000418bfc.jpg_1                                                NaN\n",
            "9  000418bfc.jpg_2                                                NaN\n",
            "the image1 class ID: 1\n",
            "the image1 ID: 0002cc93b\n",
            "the image2 class ID: 1\n",
            "the image2 class ID: 00031f466\n"
          ],
          "name": "stdout"
        }
      ]
    },
    {
      "cell_type": "code",
      "metadata": {
        "id": "TWzNMWZsq5p0",
        "colab_type": "code",
        "colab": {
          "base_uri": "https://localhost:8080/",
          "height": 196
        },
        "outputId": "dd207b2b-0041-4d10-9dcf-7aaaa7b42f9b"
      },
      "source": [
        "# Print out the top 5 rows of the train_X\n",
        "train_X.head()"
      ],
      "execution_count": 5,
      "outputs": [
        {
          "output_type": "execute_result",
          "data": {
            "text/html": [
              "<div>\n",
              "<style scoped>\n",
              "    .dataframe tbody tr th:only-of-type {\n",
              "        vertical-align: middle;\n",
              "    }\n",
              "\n",
              "    .dataframe tbody tr th {\n",
              "        vertical-align: top;\n",
              "    }\n",
              "\n",
              "    .dataframe thead th {\n",
              "        text-align: right;\n",
              "    }\n",
              "</style>\n",
              "<table border=\"1\" class=\"dataframe\">\n",
              "  <thead>\n",
              "    <tr style=\"text-align: right;\">\n",
              "      <th></th>\n",
              "      <th>ImageId_ClassId</th>\n",
              "      <th>EncodedPixels</th>\n",
              "    </tr>\n",
              "  </thead>\n",
              "  <tbody>\n",
              "    <tr>\n",
              "      <th>0</th>\n",
              "      <td>0002cc93b.jpg_1</td>\n",
              "      <td>29102 12 29346 24 29602 24 29858 24 30114 24 3...</td>\n",
              "    </tr>\n",
              "    <tr>\n",
              "      <th>1</th>\n",
              "      <td>0002cc93b.jpg_2</td>\n",
              "      <td>NaN</td>\n",
              "    </tr>\n",
              "    <tr>\n",
              "      <th>2</th>\n",
              "      <td>0002cc93b.jpg_3</td>\n",
              "      <td>NaN</td>\n",
              "    </tr>\n",
              "    <tr>\n",
              "      <th>3</th>\n",
              "      <td>0002cc93b.jpg_4</td>\n",
              "      <td>NaN</td>\n",
              "    </tr>\n",
              "    <tr>\n",
              "      <th>4</th>\n",
              "      <td>00031f466.jpg_1</td>\n",
              "      <td>NaN</td>\n",
              "    </tr>\n",
              "  </tbody>\n",
              "</table>\n",
              "</div>"
            ],
            "text/plain": [
              "   ImageId_ClassId                                      EncodedPixels\n",
              "0  0002cc93b.jpg_1  29102 12 29346 24 29602 24 29858 24 30114 24 3...\n",
              "1  0002cc93b.jpg_2                                                NaN\n",
              "2  0002cc93b.jpg_3                                                NaN\n",
              "3  0002cc93b.jpg_4                                                NaN\n",
              "4  00031f466.jpg_1                                                NaN"
            ]
          },
          "metadata": {
            "tags": []
          },
          "execution_count": 5
        }
      ]
    },
    {
      "cell_type": "code",
      "metadata": {
        "id": "zisFfNv4XORt",
        "colab_type": "code",
        "colab": {
          "base_uri": "https://localhost:8080/",
          "height": 404
        },
        "outputId": "5cd48dcb-262b-467f-9050-5f9fdbc30763"
      },
      "source": [
        "# Showing the records whose EncodePixels column is not null indicates the record is defected. \n",
        "train_X[pd.notnull(train_X['EncodedPixels'])]"
      ],
      "execution_count": 6,
      "outputs": [
        {
          "output_type": "execute_result",
          "data": {
            "text/html": [
              "<div>\n",
              "<style scoped>\n",
              "    .dataframe tbody tr th:only-of-type {\n",
              "        vertical-align: middle;\n",
              "    }\n",
              "\n",
              "    .dataframe tbody tr th {\n",
              "        vertical-align: top;\n",
              "    }\n",
              "\n",
              "    .dataframe thead th {\n",
              "        text-align: right;\n",
              "    }\n",
              "</style>\n",
              "<table border=\"1\" class=\"dataframe\">\n",
              "  <thead>\n",
              "    <tr style=\"text-align: right;\">\n",
              "      <th></th>\n",
              "      <th>ImageId_ClassId</th>\n",
              "      <th>EncodedPixels</th>\n",
              "    </tr>\n",
              "  </thead>\n",
              "  <tbody>\n",
              "    <tr>\n",
              "      <th>0</th>\n",
              "      <td>0002cc93b.jpg_1</td>\n",
              "      <td>29102 12 29346 24 29602 24 29858 24 30114 24 3...</td>\n",
              "    </tr>\n",
              "    <tr>\n",
              "      <th>18</th>\n",
              "      <td>0007a71bf.jpg_3</td>\n",
              "      <td>18661 28 18863 82 19091 110 19347 110 19603 11...</td>\n",
              "    </tr>\n",
              "    <tr>\n",
              "      <th>20</th>\n",
              "      <td>000a4bcdd.jpg_1</td>\n",
              "      <td>37607 3 37858 8 38108 14 38359 20 38610 25 388...</td>\n",
              "    </tr>\n",
              "    <tr>\n",
              "      <th>27</th>\n",
              "      <td>000f6bf48.jpg_4</td>\n",
              "      <td>131973 1 132228 4 132483 6 132738 8 132993 11 ...</td>\n",
              "    </tr>\n",
              "    <tr>\n",
              "      <th>30</th>\n",
              "      <td>0014fce06.jpg_3</td>\n",
              "      <td>229501 11 229741 33 229981 55 230221 77 230468...</td>\n",
              "    </tr>\n",
              "    <tr>\n",
              "      <th>...</th>\n",
              "      <td>...</td>\n",
              "      <td>...</td>\n",
              "    </tr>\n",
              "    <tr>\n",
              "      <th>50242</th>\n",
              "      <td>ffcf72ecf.jpg_3</td>\n",
              "      <td>121911 34 122167 101 122422 169 122678 203 122...</td>\n",
              "    </tr>\n",
              "    <tr>\n",
              "      <th>50258</th>\n",
              "      <td>fff02e9c5.jpg_3</td>\n",
              "      <td>207523 3 207777 9 208030 15 208283 22 208537 2...</td>\n",
              "    </tr>\n",
              "    <tr>\n",
              "      <th>50262</th>\n",
              "      <td>fffe98443.jpg_3</td>\n",
              "      <td>105929 5 106177 14 106424 24 106672 33 106923 ...</td>\n",
              "    </tr>\n",
              "    <tr>\n",
              "      <th>50266</th>\n",
              "      <td>ffff4eaa8.jpg_3</td>\n",
              "      <td>16899 7 17155 20 17411 34 17667 47 17923 60 18...</td>\n",
              "    </tr>\n",
              "    <tr>\n",
              "      <th>50270</th>\n",
              "      <td>ffffd67df.jpg_3</td>\n",
              "      <td>30931 43 31103 127 31275 211 31489 253 31745 2...</td>\n",
              "    </tr>\n",
              "  </tbody>\n",
              "</table>\n",
              "<p>7095 rows × 2 columns</p>\n",
              "</div>"
            ],
            "text/plain": [
              "       ImageId_ClassId                                      EncodedPixels\n",
              "0      0002cc93b.jpg_1  29102 12 29346 24 29602 24 29858 24 30114 24 3...\n",
              "18     0007a71bf.jpg_3  18661 28 18863 82 19091 110 19347 110 19603 11...\n",
              "20     000a4bcdd.jpg_1  37607 3 37858 8 38108 14 38359 20 38610 25 388...\n",
              "27     000f6bf48.jpg_4  131973 1 132228 4 132483 6 132738 8 132993 11 ...\n",
              "30     0014fce06.jpg_3  229501 11 229741 33 229981 55 230221 77 230468...\n",
              "...                ...                                                ...\n",
              "50242  ffcf72ecf.jpg_3  121911 34 122167 101 122422 169 122678 203 122...\n",
              "50258  fff02e9c5.jpg_3  207523 3 207777 9 208030 15 208283 22 208537 2...\n",
              "50262  fffe98443.jpg_3  105929 5 106177 14 106424 24 106672 33 106923 ...\n",
              "50266  ffff4eaa8.jpg_3  16899 7 17155 20 17411 34 17667 47 17923 60 18...\n",
              "50270  ffffd67df.jpg_3  30931 43 31103 127 31275 211 31489 253 31745 2...\n",
              "\n",
              "[7095 rows x 2 columns]"
            ]
          },
          "metadata": {
            "tags": []
          },
          "execution_count": 6
        }
      ]
    },
    {
      "cell_type": "code",
      "metadata": {
        "id": "JeIMD3sFmuo3",
        "colab_type": "code",
        "colab": {
          "base_uri": "https://localhost:8080/",
          "height": 67
        },
        "outputId": "3582a636-f500-4a13-c8ad-741c694b39c0"
      },
      "source": [
        "# There are 7095 records which encodedePixels column is not null \n",
        "train_X[pd.notna(train_X['EncodedPixels'])].count()"
      ],
      "execution_count": 7,
      "outputs": [
        {
          "output_type": "execute_result",
          "data": {
            "text/plain": [
              "ImageId_ClassId    7095\n",
              "EncodedPixels      7095\n",
              "dtype: int64"
            ]
          },
          "metadata": {
            "tags": []
          },
          "execution_count": 7
        }
      ]
    },
    {
      "cell_type": "markdown",
      "metadata": {
        "id": "Qoq_p83bupI6",
        "colab_type": "text"
      },
      "source": [
        "# 4. To Split the Imange Id from the class Id \n",
        "Assign 3 column names(ImageId,ClassId,EncodedPixels) to the new created dataframe "
      ]
    },
    {
      "cell_type": "code",
      "metadata": {
        "id": "jzpbWWXwh9zp",
        "colab_type": "code",
        "outputId": "fd9e1ef1-6617-4afe-cdd3-61517085a9c0",
        "colab": {
          "base_uri": "https://localhost:8080/",
          "height": 47
        }
      },
      "source": [
        "# Define a new dataframe which has 3 columns: Imange ID, Class ID, Image's EncodedPixels\n",
        "new_X = pd.DataFrame(columns=['ImageId','ClassId','EncodedPixels'])\n",
        "new_X.head()"
      ],
      "execution_count": 8,
      "outputs": [
        {
          "output_type": "execute_result",
          "data": {
            "text/html": [
              "<div>\n",
              "<style scoped>\n",
              "    .dataframe tbody tr th:only-of-type {\n",
              "        vertical-align: middle;\n",
              "    }\n",
              "\n",
              "    .dataframe tbody tr th {\n",
              "        vertical-align: top;\n",
              "    }\n",
              "\n",
              "    .dataframe thead th {\n",
              "        text-align: right;\n",
              "    }\n",
              "</style>\n",
              "<table border=\"1\" class=\"dataframe\">\n",
              "  <thead>\n",
              "    <tr style=\"text-align: right;\">\n",
              "      <th></th>\n",
              "      <th>ImageId</th>\n",
              "      <th>ClassId</th>\n",
              "      <th>EncodedPixels</th>\n",
              "    </tr>\n",
              "  </thead>\n",
              "  <tbody>\n",
              "  </tbody>\n",
              "</table>\n",
              "</div>"
            ],
            "text/plain": [
              "Empty DataFrame\n",
              "Columns: [ImageId, ClassId, EncodedPixels]\n",
              "Index: []"
            ]
          },
          "metadata": {
            "tags": []
          },
          "execution_count": 8
        }
      ]
    },
    {
      "cell_type": "markdown",
      "metadata": {
        "id": "anbP3nm7xhFi",
        "colab_type": "text"
      },
      "source": [
        "# Define 3 functions:\n",
        "*   Function1: split the class ID from the record's ImageId_ClassID column: the last digit after the sign of \"_\"\n",
        "*   Function2: split the image's name with image ID from the record's image name\n",
        "*   Function3: Copy the encodedPixels column to the new df"
      ]
    },
    {
      "cell_type": "code",
      "metadata": {
        "id": "BMyDt1AimuTd",
        "colab_type": "code",
        "colab": {}
      },
      "source": [
        "#Function 1 \n",
        "def classId_split(row):\n",
        "  # isinstance(target,str/float/int), check the target object dtype,if the record's encodedPixels column has no valid string contents then \n",
        "  # then the image has no defect, so define this non-defect image with class 0 \n",
        "  if (isinstance(row['EncodedPixels'],str)): \n",
        "    classid=int(row['ImageId_ClassId'][-1])\n",
        "  else:\n",
        "    classid=0\n",
        "  return classid\n",
        "#Function 2\n",
        "def imageId_split(row):\n",
        "  imageid=row['ImageId_ClassId'][:-2]\n",
        "  return imageid\n",
        "#Function 3 \n",
        "def Encoded_Pixels(row):\n",
        "  encoded_pixels = row['EncodedPixels']\n",
        "  return encoded_pixels"
      ],
      "execution_count": 0,
      "outputs": []
    },
    {
      "cell_type": "markdown",
      "metadata": {
        "id": "MQQXB5jP1WB1",
        "colab_type": "text"
      },
      "source": [
        "# Apply the 3 defined functions above to the the Train_X dataframe, print out the top 20 rows of the new dataframe "
      ]
    },
    {
      "cell_type": "code",
      "metadata": {
        "id": "GlvhcPrYnrJX",
        "colab_type": "code",
        "colab": {}
      },
      "source": [
        "# Apply the three functions to the each of the records then update the new defined df with classId, imageId, and EncodedPixels if available\n",
        "new_X['ClassId']=train_X.apply(lambda row: classId_split(row), axis=1)\n",
        "new_X['ImageId']=train_X.apply(lambda row: imageId_split(row), axis=1)\n",
        "new_X['EncodedPixels']= train_X.apply(lambda row: Encoded_Pixels(row),axis=1)"
      ],
      "execution_count": 0,
      "outputs": []
    },
    {
      "cell_type": "code",
      "metadata": {
        "id": "Q8Anq_5mb_Im",
        "colab_type": "code",
        "colab": {
          "base_uri": "https://localhost:8080/",
          "height": 644
        },
        "outputId": "67994783-3dc2-4583-c395-84948c02381d"
      },
      "source": [
        "# Showing the first 20 rows of the new defined df with 3 columns \n",
        "new_X.head(20)"
      ],
      "execution_count": 11,
      "outputs": [
        {
          "output_type": "execute_result",
          "data": {
            "text/html": [
              "<div>\n",
              "<style scoped>\n",
              "    .dataframe tbody tr th:only-of-type {\n",
              "        vertical-align: middle;\n",
              "    }\n",
              "\n",
              "    .dataframe tbody tr th {\n",
              "        vertical-align: top;\n",
              "    }\n",
              "\n",
              "    .dataframe thead th {\n",
              "        text-align: right;\n",
              "    }\n",
              "</style>\n",
              "<table border=\"1\" class=\"dataframe\">\n",
              "  <thead>\n",
              "    <tr style=\"text-align: right;\">\n",
              "      <th></th>\n",
              "      <th>ImageId</th>\n",
              "      <th>ClassId</th>\n",
              "      <th>EncodedPixels</th>\n",
              "    </tr>\n",
              "  </thead>\n",
              "  <tbody>\n",
              "    <tr>\n",
              "      <th>0</th>\n",
              "      <td>0002cc93b.jpg</td>\n",
              "      <td>1</td>\n",
              "      <td>29102 12 29346 24 29602 24 29858 24 30114 24 3...</td>\n",
              "    </tr>\n",
              "    <tr>\n",
              "      <th>1</th>\n",
              "      <td>0002cc93b.jpg</td>\n",
              "      <td>0</td>\n",
              "      <td>NaN</td>\n",
              "    </tr>\n",
              "    <tr>\n",
              "      <th>2</th>\n",
              "      <td>0002cc93b.jpg</td>\n",
              "      <td>0</td>\n",
              "      <td>NaN</td>\n",
              "    </tr>\n",
              "    <tr>\n",
              "      <th>3</th>\n",
              "      <td>0002cc93b.jpg</td>\n",
              "      <td>0</td>\n",
              "      <td>NaN</td>\n",
              "    </tr>\n",
              "    <tr>\n",
              "      <th>4</th>\n",
              "      <td>00031f466.jpg</td>\n",
              "      <td>0</td>\n",
              "      <td>NaN</td>\n",
              "    </tr>\n",
              "    <tr>\n",
              "      <th>5</th>\n",
              "      <td>00031f466.jpg</td>\n",
              "      <td>0</td>\n",
              "      <td>NaN</td>\n",
              "    </tr>\n",
              "    <tr>\n",
              "      <th>6</th>\n",
              "      <td>00031f466.jpg</td>\n",
              "      <td>0</td>\n",
              "      <td>NaN</td>\n",
              "    </tr>\n",
              "    <tr>\n",
              "      <th>7</th>\n",
              "      <td>00031f466.jpg</td>\n",
              "      <td>0</td>\n",
              "      <td>NaN</td>\n",
              "    </tr>\n",
              "    <tr>\n",
              "      <th>8</th>\n",
              "      <td>000418bfc.jpg</td>\n",
              "      <td>0</td>\n",
              "      <td>NaN</td>\n",
              "    </tr>\n",
              "    <tr>\n",
              "      <th>9</th>\n",
              "      <td>000418bfc.jpg</td>\n",
              "      <td>0</td>\n",
              "      <td>NaN</td>\n",
              "    </tr>\n",
              "    <tr>\n",
              "      <th>10</th>\n",
              "      <td>000418bfc.jpg</td>\n",
              "      <td>0</td>\n",
              "      <td>NaN</td>\n",
              "    </tr>\n",
              "    <tr>\n",
              "      <th>11</th>\n",
              "      <td>000418bfc.jpg</td>\n",
              "      <td>0</td>\n",
              "      <td>NaN</td>\n",
              "    </tr>\n",
              "    <tr>\n",
              "      <th>12</th>\n",
              "      <td>000789191.jpg</td>\n",
              "      <td>0</td>\n",
              "      <td>NaN</td>\n",
              "    </tr>\n",
              "    <tr>\n",
              "      <th>13</th>\n",
              "      <td>000789191.jpg</td>\n",
              "      <td>0</td>\n",
              "      <td>NaN</td>\n",
              "    </tr>\n",
              "    <tr>\n",
              "      <th>14</th>\n",
              "      <td>000789191.jpg</td>\n",
              "      <td>0</td>\n",
              "      <td>NaN</td>\n",
              "    </tr>\n",
              "    <tr>\n",
              "      <th>15</th>\n",
              "      <td>000789191.jpg</td>\n",
              "      <td>0</td>\n",
              "      <td>NaN</td>\n",
              "    </tr>\n",
              "    <tr>\n",
              "      <th>16</th>\n",
              "      <td>0007a71bf.jpg</td>\n",
              "      <td>0</td>\n",
              "      <td>NaN</td>\n",
              "    </tr>\n",
              "    <tr>\n",
              "      <th>17</th>\n",
              "      <td>0007a71bf.jpg</td>\n",
              "      <td>0</td>\n",
              "      <td>NaN</td>\n",
              "    </tr>\n",
              "    <tr>\n",
              "      <th>18</th>\n",
              "      <td>0007a71bf.jpg</td>\n",
              "      <td>3</td>\n",
              "      <td>18661 28 18863 82 19091 110 19347 110 19603 11...</td>\n",
              "    </tr>\n",
              "    <tr>\n",
              "      <th>19</th>\n",
              "      <td>0007a71bf.jpg</td>\n",
              "      <td>0</td>\n",
              "      <td>NaN</td>\n",
              "    </tr>\n",
              "  </tbody>\n",
              "</table>\n",
              "</div>"
            ],
            "text/plain": [
              "          ImageId  ClassId                                      EncodedPixels\n",
              "0   0002cc93b.jpg        1  29102 12 29346 24 29602 24 29858 24 30114 24 3...\n",
              "1   0002cc93b.jpg        0                                                NaN\n",
              "2   0002cc93b.jpg        0                                                NaN\n",
              "3   0002cc93b.jpg        0                                                NaN\n",
              "4   00031f466.jpg        0                                                NaN\n",
              "5   00031f466.jpg        0                                                NaN\n",
              "6   00031f466.jpg        0                                                NaN\n",
              "7   00031f466.jpg        0                                                NaN\n",
              "8   000418bfc.jpg        0                                                NaN\n",
              "9   000418bfc.jpg        0                                                NaN\n",
              "10  000418bfc.jpg        0                                                NaN\n",
              "11  000418bfc.jpg        0                                                NaN\n",
              "12  000789191.jpg        0                                                NaN\n",
              "13  000789191.jpg        0                                                NaN\n",
              "14  000789191.jpg        0                                                NaN\n",
              "15  000789191.jpg        0                                                NaN\n",
              "16  0007a71bf.jpg        0                                                NaN\n",
              "17  0007a71bf.jpg        0                                                NaN\n",
              "18  0007a71bf.jpg        3  18661 28 18863 82 19091 110 19347 110 19603 11...\n",
              "19  0007a71bf.jpg        0                                                NaN"
            ]
          },
          "metadata": {
            "tags": []
          },
          "execution_count": 11
        }
      ]
    },
    {
      "cell_type": "markdown",
      "metadata": {
        "id": "8D5GkRf1jCMU",
        "colab_type": "text"
      },
      "source": [
        "#5. Drop the duplicate records for the new df, define a new_train_x df"
      ]
    },
    {
      "cell_type": "code",
      "metadata": {
        "id": "LLwO2PQKvCWl",
        "colab_type": "code",
        "outputId": "1c22067e-1d41-4794-993f-34005c435294",
        "colab": {
          "base_uri": "https://localhost:8080/",
          "height": 660
        }
      },
      "source": [
        "#remove the duplicate records from the new_x df\n",
        "new_train_x=new_X.drop_duplicates()\n",
        "# define a new list that contains the defected images' ID\n",
        "defect_ids=  new_train_x[new_train_x['ClassId']!=0]['ImageId']\n",
        "print ('The defected images count:',len(defect_ids))\n",
        "# show up the first 20 records of the non-duplicate dataframe \n",
        "new_train_x.head(20)"
      ],
      "execution_count": 12,
      "outputs": [
        {
          "output_type": "stream",
          "text": [
            "The defected images count: 7095\n"
          ],
          "name": "stdout"
        },
        {
          "output_type": "execute_result",
          "data": {
            "text/html": [
              "<div>\n",
              "<style scoped>\n",
              "    .dataframe tbody tr th:only-of-type {\n",
              "        vertical-align: middle;\n",
              "    }\n",
              "\n",
              "    .dataframe tbody tr th {\n",
              "        vertical-align: top;\n",
              "    }\n",
              "\n",
              "    .dataframe thead th {\n",
              "        text-align: right;\n",
              "    }\n",
              "</style>\n",
              "<table border=\"1\" class=\"dataframe\">\n",
              "  <thead>\n",
              "    <tr style=\"text-align: right;\">\n",
              "      <th></th>\n",
              "      <th>ImageId</th>\n",
              "      <th>ClassId</th>\n",
              "      <th>EncodedPixels</th>\n",
              "    </tr>\n",
              "  </thead>\n",
              "  <tbody>\n",
              "    <tr>\n",
              "      <th>0</th>\n",
              "      <td>0002cc93b.jpg</td>\n",
              "      <td>1</td>\n",
              "      <td>29102 12 29346 24 29602 24 29858 24 30114 24 3...</td>\n",
              "    </tr>\n",
              "    <tr>\n",
              "      <th>1</th>\n",
              "      <td>0002cc93b.jpg</td>\n",
              "      <td>0</td>\n",
              "      <td>NaN</td>\n",
              "    </tr>\n",
              "    <tr>\n",
              "      <th>4</th>\n",
              "      <td>00031f466.jpg</td>\n",
              "      <td>0</td>\n",
              "      <td>NaN</td>\n",
              "    </tr>\n",
              "    <tr>\n",
              "      <th>8</th>\n",
              "      <td>000418bfc.jpg</td>\n",
              "      <td>0</td>\n",
              "      <td>NaN</td>\n",
              "    </tr>\n",
              "    <tr>\n",
              "      <th>12</th>\n",
              "      <td>000789191.jpg</td>\n",
              "      <td>0</td>\n",
              "      <td>NaN</td>\n",
              "    </tr>\n",
              "    <tr>\n",
              "      <th>16</th>\n",
              "      <td>0007a71bf.jpg</td>\n",
              "      <td>0</td>\n",
              "      <td>NaN</td>\n",
              "    </tr>\n",
              "    <tr>\n",
              "      <th>18</th>\n",
              "      <td>0007a71bf.jpg</td>\n",
              "      <td>3</td>\n",
              "      <td>18661 28 18863 82 19091 110 19347 110 19603 11...</td>\n",
              "    </tr>\n",
              "    <tr>\n",
              "      <th>20</th>\n",
              "      <td>000a4bcdd.jpg</td>\n",
              "      <td>1</td>\n",
              "      <td>37607 3 37858 8 38108 14 38359 20 38610 25 388...</td>\n",
              "    </tr>\n",
              "    <tr>\n",
              "      <th>21</th>\n",
              "      <td>000a4bcdd.jpg</td>\n",
              "      <td>0</td>\n",
              "      <td>NaN</td>\n",
              "    </tr>\n",
              "    <tr>\n",
              "      <th>24</th>\n",
              "      <td>000f6bf48.jpg</td>\n",
              "      <td>0</td>\n",
              "      <td>NaN</td>\n",
              "    </tr>\n",
              "    <tr>\n",
              "      <th>27</th>\n",
              "      <td>000f6bf48.jpg</td>\n",
              "      <td>4</td>\n",
              "      <td>131973 1 132228 4 132483 6 132738 8 132993 11 ...</td>\n",
              "    </tr>\n",
              "    <tr>\n",
              "      <th>28</th>\n",
              "      <td>0014fce06.jpg</td>\n",
              "      <td>0</td>\n",
              "      <td>NaN</td>\n",
              "    </tr>\n",
              "    <tr>\n",
              "      <th>30</th>\n",
              "      <td>0014fce06.jpg</td>\n",
              "      <td>3</td>\n",
              "      <td>229501 11 229741 33 229981 55 230221 77 230468...</td>\n",
              "    </tr>\n",
              "    <tr>\n",
              "      <th>32</th>\n",
              "      <td>001982b08.jpg</td>\n",
              "      <td>0</td>\n",
              "      <td>NaN</td>\n",
              "    </tr>\n",
              "    <tr>\n",
              "      <th>36</th>\n",
              "      <td>001d1b355.jpg</td>\n",
              "      <td>0</td>\n",
              "      <td>NaN</td>\n",
              "    </tr>\n",
              "    <tr>\n",
              "      <th>40</th>\n",
              "      <td>001d3d093.jpg</td>\n",
              "      <td>0</td>\n",
              "      <td>NaN</td>\n",
              "    </tr>\n",
              "    <tr>\n",
              "      <th>44</th>\n",
              "      <td>0025bde0c.jpg</td>\n",
              "      <td>0</td>\n",
              "      <td>NaN</td>\n",
              "    </tr>\n",
              "    <tr>\n",
              "      <th>46</th>\n",
              "      <td>0025bde0c.jpg</td>\n",
              "      <td>3</td>\n",
              "      <td>8458 14 8707 35 8963 48 9219 71 9475 88 9731 8...</td>\n",
              "    </tr>\n",
              "    <tr>\n",
              "      <th>47</th>\n",
              "      <td>0025bde0c.jpg</td>\n",
              "      <td>4</td>\n",
              "      <td>315139 8 315395 15 315651 16 315906 17 316162 ...</td>\n",
              "    </tr>\n",
              "    <tr>\n",
              "      <th>48</th>\n",
              "      <td>002af848d.jpg</td>\n",
              "      <td>0</td>\n",
              "      <td>NaN</td>\n",
              "    </tr>\n",
              "  </tbody>\n",
              "</table>\n",
              "</div>"
            ],
            "text/plain": [
              "          ImageId  ClassId                                      EncodedPixels\n",
              "0   0002cc93b.jpg        1  29102 12 29346 24 29602 24 29858 24 30114 24 3...\n",
              "1   0002cc93b.jpg        0                                                NaN\n",
              "4   00031f466.jpg        0                                                NaN\n",
              "8   000418bfc.jpg        0                                                NaN\n",
              "12  000789191.jpg        0                                                NaN\n",
              "16  0007a71bf.jpg        0                                                NaN\n",
              "18  0007a71bf.jpg        3  18661 28 18863 82 19091 110 19347 110 19603 11...\n",
              "20  000a4bcdd.jpg        1  37607 3 37858 8 38108 14 38359 20 38610 25 388...\n",
              "21  000a4bcdd.jpg        0                                                NaN\n",
              "24  000f6bf48.jpg        0                                                NaN\n",
              "27  000f6bf48.jpg        4  131973 1 132228 4 132483 6 132738 8 132993 11 ...\n",
              "28  0014fce06.jpg        0                                                NaN\n",
              "30  0014fce06.jpg        3  229501 11 229741 33 229981 55 230221 77 230468...\n",
              "32  001982b08.jpg        0                                                NaN\n",
              "36  001d1b355.jpg        0                                                NaN\n",
              "40  001d3d093.jpg        0                                                NaN\n",
              "44  0025bde0c.jpg        0                                                NaN\n",
              "46  0025bde0c.jpg        3  8458 14 8707 35 8963 48 9219 71 9475 88 9731 8...\n",
              "47  0025bde0c.jpg        4  315139 8 315395 15 315651 16 315906 17 316162 ...\n",
              "48  002af848d.jpg        0                                                NaN"
            ]
          },
          "metadata": {
            "tags": []
          },
          "execution_count": 12
        }
      ]
    },
    {
      "cell_type": "markdown",
      "metadata": {
        "id": "PHkOI2CAmIwf",
        "colab_type": "text"
      },
      "source": [
        "# 6. Create a new column \"Is_defected\" to label if the record is defected. "
      ]
    },
    {
      "cell_type": "code",
      "metadata": {
        "id": "OFWYWqf0OsK4",
        "colab_type": "code",
        "outputId": "fa9efe05-85c5-41c2-d672-75ac269daae9",
        "colab": {
          "base_uri": "https://localhost:8080/",
          "height": 117
        }
      },
      "source": [
        "# define a function: label True if the record is defected, label False if the record is non-defected. \n",
        "def defect_id(row):\n",
        "  if row['ImageId'] in defect_ids.tolist():\n",
        "    return True\n",
        "  else: \n",
        "    return False\n",
        "# apply the function for each record then return the defected label to the new defined column with True or False \n",
        "new_X['Is_defected']= new_X.apply(lambda row: defect_id(row),axis=1)\n",
        "new_train_x['Is_defected']= new_train_x.apply(lambda row: defect_id(row),axis=1)"
      ],
      "execution_count": 13,
      "outputs": [
        {
          "output_type": "stream",
          "text": [
            "/usr/local/lib/python3.6/dist-packages/ipykernel_launcher.py:8: SettingWithCopyWarning: \n",
            "A value is trying to be set on a copy of a slice from a DataFrame.\n",
            "Try using .loc[row_indexer,col_indexer] = value instead\n",
            "\n",
            "See the caveats in the documentation: http://pandas.pydata.org/pandas-docs/stable/user_guide/indexing.html#returning-a-view-versus-a-copy\n",
            "  \n"
          ],
          "name": "stderr"
        }
      ]
    },
    {
      "cell_type": "code",
      "metadata": {
        "id": "mvL9dlSQPebl",
        "colab_type": "code",
        "outputId": "64ebfc91-19ba-406d-f507-f18e3e085d4b",
        "colab": {
          "base_uri": "https://localhost:8080/",
          "height": 196
        }
      },
      "source": [
        "#show up the first 5 recodes with new defined column \n",
        "new_X.head()"
      ],
      "execution_count": 14,
      "outputs": [
        {
          "output_type": "execute_result",
          "data": {
            "text/html": [
              "<div>\n",
              "<style scoped>\n",
              "    .dataframe tbody tr th:only-of-type {\n",
              "        vertical-align: middle;\n",
              "    }\n",
              "\n",
              "    .dataframe tbody tr th {\n",
              "        vertical-align: top;\n",
              "    }\n",
              "\n",
              "    .dataframe thead th {\n",
              "        text-align: right;\n",
              "    }\n",
              "</style>\n",
              "<table border=\"1\" class=\"dataframe\">\n",
              "  <thead>\n",
              "    <tr style=\"text-align: right;\">\n",
              "      <th></th>\n",
              "      <th>ImageId</th>\n",
              "      <th>ClassId</th>\n",
              "      <th>EncodedPixels</th>\n",
              "      <th>Is_defected</th>\n",
              "    </tr>\n",
              "  </thead>\n",
              "  <tbody>\n",
              "    <tr>\n",
              "      <th>0</th>\n",
              "      <td>0002cc93b.jpg</td>\n",
              "      <td>1</td>\n",
              "      <td>29102 12 29346 24 29602 24 29858 24 30114 24 3...</td>\n",
              "      <td>True</td>\n",
              "    </tr>\n",
              "    <tr>\n",
              "      <th>1</th>\n",
              "      <td>0002cc93b.jpg</td>\n",
              "      <td>0</td>\n",
              "      <td>NaN</td>\n",
              "      <td>True</td>\n",
              "    </tr>\n",
              "    <tr>\n",
              "      <th>2</th>\n",
              "      <td>0002cc93b.jpg</td>\n",
              "      <td>0</td>\n",
              "      <td>NaN</td>\n",
              "      <td>True</td>\n",
              "    </tr>\n",
              "    <tr>\n",
              "      <th>3</th>\n",
              "      <td>0002cc93b.jpg</td>\n",
              "      <td>0</td>\n",
              "      <td>NaN</td>\n",
              "      <td>True</td>\n",
              "    </tr>\n",
              "    <tr>\n",
              "      <th>4</th>\n",
              "      <td>00031f466.jpg</td>\n",
              "      <td>0</td>\n",
              "      <td>NaN</td>\n",
              "      <td>False</td>\n",
              "    </tr>\n",
              "  </tbody>\n",
              "</table>\n",
              "</div>"
            ],
            "text/plain": [
              "         ImageId  ...  Is_defected\n",
              "0  0002cc93b.jpg  ...         True\n",
              "1  0002cc93b.jpg  ...         True\n",
              "2  0002cc93b.jpg  ...         True\n",
              "3  0002cc93b.jpg  ...         True\n",
              "4  00031f466.jpg  ...        False\n",
              "\n",
              "[5 rows x 4 columns]"
            ]
          },
          "metadata": {
            "tags": []
          },
          "execution_count": 14
        }
      ]
    },
    {
      "cell_type": "code",
      "metadata": {
        "id": "EvTCeFUCnOmX",
        "colab_type": "code",
        "colab": {
          "base_uri": "https://localhost:8080/",
          "height": 196
        },
        "outputId": "52e1c76a-aa42-45d8-d93f-43df663999ac"
      },
      "source": [
        "#show up the first 5 recodes with new defined column \n",
        "new_train_x.head()"
      ],
      "execution_count": 15,
      "outputs": [
        {
          "output_type": "execute_result",
          "data": {
            "text/html": [
              "<div>\n",
              "<style scoped>\n",
              "    .dataframe tbody tr th:only-of-type {\n",
              "        vertical-align: middle;\n",
              "    }\n",
              "\n",
              "    .dataframe tbody tr th {\n",
              "        vertical-align: top;\n",
              "    }\n",
              "\n",
              "    .dataframe thead th {\n",
              "        text-align: right;\n",
              "    }\n",
              "</style>\n",
              "<table border=\"1\" class=\"dataframe\">\n",
              "  <thead>\n",
              "    <tr style=\"text-align: right;\">\n",
              "      <th></th>\n",
              "      <th>ImageId</th>\n",
              "      <th>ClassId</th>\n",
              "      <th>EncodedPixels</th>\n",
              "      <th>Is_defected</th>\n",
              "    </tr>\n",
              "  </thead>\n",
              "  <tbody>\n",
              "    <tr>\n",
              "      <th>0</th>\n",
              "      <td>0002cc93b.jpg</td>\n",
              "      <td>1</td>\n",
              "      <td>29102 12 29346 24 29602 24 29858 24 30114 24 3...</td>\n",
              "      <td>True</td>\n",
              "    </tr>\n",
              "    <tr>\n",
              "      <th>1</th>\n",
              "      <td>0002cc93b.jpg</td>\n",
              "      <td>0</td>\n",
              "      <td>NaN</td>\n",
              "      <td>True</td>\n",
              "    </tr>\n",
              "    <tr>\n",
              "      <th>4</th>\n",
              "      <td>00031f466.jpg</td>\n",
              "      <td>0</td>\n",
              "      <td>NaN</td>\n",
              "      <td>False</td>\n",
              "    </tr>\n",
              "    <tr>\n",
              "      <th>8</th>\n",
              "      <td>000418bfc.jpg</td>\n",
              "      <td>0</td>\n",
              "      <td>NaN</td>\n",
              "      <td>False</td>\n",
              "    </tr>\n",
              "    <tr>\n",
              "      <th>12</th>\n",
              "      <td>000789191.jpg</td>\n",
              "      <td>0</td>\n",
              "      <td>NaN</td>\n",
              "      <td>False</td>\n",
              "    </tr>\n",
              "  </tbody>\n",
              "</table>\n",
              "</div>"
            ],
            "text/plain": [
              "          ImageId  ...  Is_defected\n",
              "0   0002cc93b.jpg  ...         True\n",
              "1   0002cc93b.jpg  ...         True\n",
              "4   00031f466.jpg  ...        False\n",
              "8   000418bfc.jpg  ...        False\n",
              "12  000789191.jpg  ...        False\n",
              "\n",
              "[5 rows x 4 columns]"
            ]
          },
          "metadata": {
            "tags": []
          },
          "execution_count": 15
        }
      ]
    },
    {
      "cell_type": "code",
      "metadata": {
        "id": "J7kTV7JFBYCN",
        "colab_type": "code",
        "colab": {
          "base_uri": "https://localhost:8080/",
          "height": 50
        },
        "outputId": "10f611bf-eea1-4210-fa7a-76d733787d9b"
      },
      "source": [
        "print ('The counts of the new_train_x:',len(new_train_x))\n",
        "new_train_x['ImageId'][1:].nunique()"
      ],
      "execution_count": 16,
      "outputs": [
        {
          "output_type": "stream",
          "text": [
            "The counts of the new_train_x: 19663\n"
          ],
          "name": "stdout"
        },
        {
          "output_type": "execute_result",
          "data": {
            "text/plain": [
              "12568"
            ]
          },
          "metadata": {
            "tags": []
          },
          "execution_count": 16
        }
      ]
    },
    {
      "cell_type": "code",
      "metadata": {
        "id": "DFhtQXYDD6uy",
        "colab_type": "code",
        "outputId": "606f5c85-729d-47bf-daa9-6a16595a5ea2",
        "colab": {
          "base_uri": "https://localhost:8080/",
          "height": 230
        }
      },
      "source": [
        "# create a df with unique records \n",
        "x_train_unique = new_train_x[(new_train_x['Is_defected']==True) & (new_train_x['ClassId']!=0) | (new_train_x['Is_defected']==False)]\n",
        "print ('The unique records from x_train_unique count:',len(x_train_unique))\n",
        "print ('The new_train_x count:',len(new_train_x))\n",
        "x_train_unique.head(5)"
      ],
      "execution_count": 17,
      "outputs": [
        {
          "output_type": "stream",
          "text": [
            "The unique records from x_train_unique count: 12997\n",
            "The new_train_x count: 19663\n"
          ],
          "name": "stdout"
        },
        {
          "output_type": "execute_result",
          "data": {
            "text/html": [
              "<div>\n",
              "<style scoped>\n",
              "    .dataframe tbody tr th:only-of-type {\n",
              "        vertical-align: middle;\n",
              "    }\n",
              "\n",
              "    .dataframe tbody tr th {\n",
              "        vertical-align: top;\n",
              "    }\n",
              "\n",
              "    .dataframe thead th {\n",
              "        text-align: right;\n",
              "    }\n",
              "</style>\n",
              "<table border=\"1\" class=\"dataframe\">\n",
              "  <thead>\n",
              "    <tr style=\"text-align: right;\">\n",
              "      <th></th>\n",
              "      <th>ImageId</th>\n",
              "      <th>ClassId</th>\n",
              "      <th>EncodedPixels</th>\n",
              "      <th>Is_defected</th>\n",
              "    </tr>\n",
              "  </thead>\n",
              "  <tbody>\n",
              "    <tr>\n",
              "      <th>0</th>\n",
              "      <td>0002cc93b.jpg</td>\n",
              "      <td>1</td>\n",
              "      <td>29102 12 29346 24 29602 24 29858 24 30114 24 3...</td>\n",
              "      <td>True</td>\n",
              "    </tr>\n",
              "    <tr>\n",
              "      <th>4</th>\n",
              "      <td>00031f466.jpg</td>\n",
              "      <td>0</td>\n",
              "      <td>NaN</td>\n",
              "      <td>False</td>\n",
              "    </tr>\n",
              "    <tr>\n",
              "      <th>8</th>\n",
              "      <td>000418bfc.jpg</td>\n",
              "      <td>0</td>\n",
              "      <td>NaN</td>\n",
              "      <td>False</td>\n",
              "    </tr>\n",
              "    <tr>\n",
              "      <th>12</th>\n",
              "      <td>000789191.jpg</td>\n",
              "      <td>0</td>\n",
              "      <td>NaN</td>\n",
              "      <td>False</td>\n",
              "    </tr>\n",
              "    <tr>\n",
              "      <th>18</th>\n",
              "      <td>0007a71bf.jpg</td>\n",
              "      <td>3</td>\n",
              "      <td>18661 28 18863 82 19091 110 19347 110 19603 11...</td>\n",
              "      <td>True</td>\n",
              "    </tr>\n",
              "  </tbody>\n",
              "</table>\n",
              "</div>"
            ],
            "text/plain": [
              "          ImageId  ...  Is_defected\n",
              "0   0002cc93b.jpg  ...         True\n",
              "4   00031f466.jpg  ...        False\n",
              "8   000418bfc.jpg  ...        False\n",
              "12  000789191.jpg  ...        False\n",
              "18  0007a71bf.jpg  ...         True\n",
              "\n",
              "[5 rows x 4 columns]"
            ]
          },
          "metadata": {
            "tags": []
          },
          "execution_count": 17
        }
      ]
    },
    {
      "cell_type": "markdown",
      "metadata": {
        "id": "6Mzlw4-kgBV7",
        "colab_type": "text"
      },
      "source": [
        "*The unique image ID from new_train_x df is **12568** but the unique records from new_train_unique is **12997**. That means: some of the records have the same imageId but different ClassId.*"
      ]
    },
    {
      "cell_type": "markdown",
      "metadata": {
        "id": "9kLegq39g9NG",
        "colab_type": "text"
      },
      "source": [
        "# 7. Reset the index of x_train_unique df, print out the top 5 records. "
      ]
    },
    {
      "cell_type": "code",
      "metadata": {
        "id": "Zydsqw40SLpS",
        "colab_type": "code",
        "outputId": "6a702ed1-5261-4342-8b19-6bdcff67c187",
        "colab": {
          "base_uri": "https://localhost:8080/",
          "height": 196
        }
      },
      "source": [
        "x_train_unique=x_train_unique.reset_index()\n",
        "del x_train_unique['index']\n",
        "#del x_train_unique['level_0']\n",
        "x_train_unique.head()"
      ],
      "execution_count": 18,
      "outputs": [
        {
          "output_type": "execute_result",
          "data": {
            "text/html": [
              "<div>\n",
              "<style scoped>\n",
              "    .dataframe tbody tr th:only-of-type {\n",
              "        vertical-align: middle;\n",
              "    }\n",
              "\n",
              "    .dataframe tbody tr th {\n",
              "        vertical-align: top;\n",
              "    }\n",
              "\n",
              "    .dataframe thead th {\n",
              "        text-align: right;\n",
              "    }\n",
              "</style>\n",
              "<table border=\"1\" class=\"dataframe\">\n",
              "  <thead>\n",
              "    <tr style=\"text-align: right;\">\n",
              "      <th></th>\n",
              "      <th>ImageId</th>\n",
              "      <th>ClassId</th>\n",
              "      <th>EncodedPixels</th>\n",
              "      <th>Is_defected</th>\n",
              "    </tr>\n",
              "  </thead>\n",
              "  <tbody>\n",
              "    <tr>\n",
              "      <th>0</th>\n",
              "      <td>0002cc93b.jpg</td>\n",
              "      <td>1</td>\n",
              "      <td>29102 12 29346 24 29602 24 29858 24 30114 24 3...</td>\n",
              "      <td>True</td>\n",
              "    </tr>\n",
              "    <tr>\n",
              "      <th>1</th>\n",
              "      <td>00031f466.jpg</td>\n",
              "      <td>0</td>\n",
              "      <td>NaN</td>\n",
              "      <td>False</td>\n",
              "    </tr>\n",
              "    <tr>\n",
              "      <th>2</th>\n",
              "      <td>000418bfc.jpg</td>\n",
              "      <td>0</td>\n",
              "      <td>NaN</td>\n",
              "      <td>False</td>\n",
              "    </tr>\n",
              "    <tr>\n",
              "      <th>3</th>\n",
              "      <td>000789191.jpg</td>\n",
              "      <td>0</td>\n",
              "      <td>NaN</td>\n",
              "      <td>False</td>\n",
              "    </tr>\n",
              "    <tr>\n",
              "      <th>4</th>\n",
              "      <td>0007a71bf.jpg</td>\n",
              "      <td>3</td>\n",
              "      <td>18661 28 18863 82 19091 110 19347 110 19603 11...</td>\n",
              "      <td>True</td>\n",
              "    </tr>\n",
              "  </tbody>\n",
              "</table>\n",
              "</div>"
            ],
            "text/plain": [
              "         ImageId  ...  Is_defected\n",
              "0  0002cc93b.jpg  ...         True\n",
              "1  00031f466.jpg  ...        False\n",
              "2  000418bfc.jpg  ...        False\n",
              "3  000789191.jpg  ...        False\n",
              "4  0007a71bf.jpg  ...         True\n",
              "\n",
              "[5 rows x 4 columns]"
            ]
          },
          "metadata": {
            "tags": []
          },
          "execution_count": 18
        }
      ]
    },
    {
      "cell_type": "code",
      "metadata": {
        "id": "GKjNSawdkV3_",
        "colab_type": "code",
        "colab": {}
      },
      "source": [
        "image_path=cwd+'/train_images'\n",
        "list = os.listdir(image_path)\n",
        "len(list)"
      ],
      "execution_count": 0,
      "outputs": []
    },
    {
      "cell_type": "markdown",
      "metadata": {
        "id": "tgVfqdCMM-2o",
        "colab_type": "text"
      },
      "source": [
        "\n",
        "\n",
        "\n",
        "# 8. This section will use train_X['EncodedPixels'][0] as an example to decode the encoded pixels."
      ]
    },
    {
      "cell_type": "code",
      "metadata": {
        "id": "Dsv9P3t_X6UI",
        "colab_type": "code",
        "outputId": "e1429c49-357b-4fdd-849e-69ecbb8610c8",
        "colab": {
          "base_uri": "https://localhost:8080/",
          "height": 87
        }
      },
      "source": [
        "# split the string based on the space \n",
        "print (type(train_X['EncodedPixels'][0].split()))\n",
        "splited_string = train_X['EncodedPixels'][0].split()\n",
        "print (splited_string[0],type(splited_string[0]),splited_string[1])\n",
        "# output a list of encoded pixels \n",
        "result = [int(i) for i in splited_string]\n",
        "print (result)"
      ],
      "execution_count": 19,
      "outputs": [
        {
          "output_type": "stream",
          "text": [
            "<class 'list'>\n",
            "29102 <class 'str'> 12\n",
            "[29102, 12, 29346, 24, 29602, 24, 29858, 24, 30114, 24, 30370, 24, 30626, 24, 30882, 24, 31139, 23, 31395, 23, 31651, 23, 31907, 23, 32163, 23, 32419, 23, 32675, 23, 77918, 27, 78174, 55, 78429, 60, 78685, 64, 78941, 68, 79197, 72, 79452, 77, 79708, 81, 79964, 85, 80220, 89, 80475, 94, 80731, 98, 80987, 102, 81242, 105, 81498, 105, 81754, 104, 82010, 104, 82265, 105, 82521, 31, 82556, 69, 82779, 27, 82818, 63, 83038, 22, 83080, 57, 83297, 17, 83342, 50, 83555, 13, 83604, 44, 83814, 8, 83866, 37, 84073, 3, 84128, 31, 84390, 25, 84652, 18, 84918, 8, 85239, 10, 85476, 29, 85714, 47, 85960, 57, 86216, 57, 86471, 58, 86727, 58, 86983, 58, 87238, 59, 87494, 59, 87750, 59, 88005, 60, 88261, 60, 88517, 60, 88772, 61, 89028, 53, 89283, 40, 89539, 32, 89667, 10, 89795, 30, 89923, 28, 90050, 29, 90179, 37, 90306, 27, 90434, 38, 90562, 14, 90690, 38, 90817, 9, 90946, 38, 91073, 3, 91202, 38, 91458, 38, 91714, 38, 91969, 39, 92225, 39, 92481, 39, 92737, 39, 92993, 39, 93248, 40, 93504, 40, 93760, 40, 94026, 30, 94302, 10, 189792, 7, 190034, 21, 190283, 28, 190539, 28, 190795, 28, 191051, 28, 191307, 28, 191563, 28, 191819, 28, 192075, 28, 192331, 28, 192587, 28, 192843, 23, 193099, 14, 193355, 5]\n"
          ],
          "name": "stdout"
        }
      ]
    },
    {
      "cell_type": "markdown",
      "metadata": {
        "id": "qtPnzy1kl3iE",
        "colab_type": "text"
      },
      "source": [
        "Based on the example above, \n",
        "* split the string with space \n",
        "* convert the splited to string to int "
      ]
    },
    {
      "cell_type": "code",
      "metadata": {
        "id": "syuxWic6OBG8",
        "colab_type": "code",
        "outputId": "4123bad8-68a1-447f-c313-09c0af8ec67a",
        "colab": {
          "base_uri": "https://localhost:8080/",
          "height": 53
        }
      },
      "source": [
        "# define a function to convert string to a list of int\n",
        "def convert_to_listInt(string):\n",
        "  li = string.split()\n",
        "  result = [int(i) for i in li]\n",
        "  return result \n",
        "print (result,len(result))"
      ],
      "execution_count": 20,
      "outputs": [
        {
          "output_type": "stream",
          "text": [
            "[29102, 12, 29346, 24, 29602, 24, 29858, 24, 30114, 24, 30370, 24, 30626, 24, 30882, 24, 31139, 23, 31395, 23, 31651, 23, 31907, 23, 32163, 23, 32419, 23, 32675, 23, 77918, 27, 78174, 55, 78429, 60, 78685, 64, 78941, 68, 79197, 72, 79452, 77, 79708, 81, 79964, 85, 80220, 89, 80475, 94, 80731, 98, 80987, 102, 81242, 105, 81498, 105, 81754, 104, 82010, 104, 82265, 105, 82521, 31, 82556, 69, 82779, 27, 82818, 63, 83038, 22, 83080, 57, 83297, 17, 83342, 50, 83555, 13, 83604, 44, 83814, 8, 83866, 37, 84073, 3, 84128, 31, 84390, 25, 84652, 18, 84918, 8, 85239, 10, 85476, 29, 85714, 47, 85960, 57, 86216, 57, 86471, 58, 86727, 58, 86983, 58, 87238, 59, 87494, 59, 87750, 59, 88005, 60, 88261, 60, 88517, 60, 88772, 61, 89028, 53, 89283, 40, 89539, 32, 89667, 10, 89795, 30, 89923, 28, 90050, 29, 90179, 37, 90306, 27, 90434, 38, 90562, 14, 90690, 38, 90817, 9, 90946, 38, 91073, 3, 91202, 38, 91458, 38, 91714, 38, 91969, 39, 92225, 39, 92481, 39, 92737, 39, 92993, 39, 93248, 40, 93504, 40, 93760, 40, 94026, 30, 94302, 10, 189792, 7, 190034, 21, 190283, 28, 190539, 28, 190795, 28, 191051, 28, 191307, 28, 191563, 28, 191819, 28, 192075, 28, 192331, 28, 192587, 28, 192843, 23, 193099, 14, 193355, 5] 216\n"
          ],
          "name": "stdout"
        }
      ]
    },
    {
      "cell_type": "code",
      "metadata": {
        "id": "owLoEwFoUcgS",
        "colab_type": "code",
        "outputId": "b340db12-6ce5-4739-bdef-970d86cea2b5",
        "colab": {
          "base_uri": "https://localhost:8080/",
          "height": 70
        }
      },
      "source": [
        "# convert the encoded list to a complete pixels list \n",
        "def convert_to_full_pixels_list(result):\n",
        "  list =[]\n",
        "  for i in range(len(result)):\n",
        "    if i%2 == 0:\n",
        "      list.append(result[i])\n",
        "    else:\n",
        "      for j in range(1,result[i]):\n",
        "        list.append(result[i-1]+j)\n",
        "  return list\n",
        "complete_pixels_list=convert_to_full_pixels_list(result)\n",
        "print (complete_pixels_list)\n",
        "len(complete_pixels_list)"
      ],
      "execution_count": 21,
      "outputs": [
        {
          "output_type": "stream",
          "text": [
            "[29102, 29103, 29104, 29105, 29106, 29107, 29108, 29109, 29110, 29111, 29112, 29113, 29346, 29347, 29348, 29349, 29350, 29351, 29352, 29353, 29354, 29355, 29356, 29357, 29358, 29359, 29360, 29361, 29362, 29363, 29364, 29365, 29366, 29367, 29368, 29369, 29602, 29603, 29604, 29605, 29606, 29607, 29608, 29609, 29610, 29611, 29612, 29613, 29614, 29615, 29616, 29617, 29618, 29619, 29620, 29621, 29622, 29623, 29624, 29625, 29858, 29859, 29860, 29861, 29862, 29863, 29864, 29865, 29866, 29867, 29868, 29869, 29870, 29871, 29872, 29873, 29874, 29875, 29876, 29877, 29878, 29879, 29880, 29881, 30114, 30115, 30116, 30117, 30118, 30119, 30120, 30121, 30122, 30123, 30124, 30125, 30126, 30127, 30128, 30129, 30130, 30131, 30132, 30133, 30134, 30135, 30136, 30137, 30370, 30371, 30372, 30373, 30374, 30375, 30376, 30377, 30378, 30379, 30380, 30381, 30382, 30383, 30384, 30385, 30386, 30387, 30388, 30389, 30390, 30391, 30392, 30393, 30626, 30627, 30628, 30629, 30630, 30631, 30632, 30633, 30634, 30635, 30636, 30637, 30638, 30639, 30640, 30641, 30642, 30643, 30644, 30645, 30646, 30647, 30648, 30649, 30882, 30883, 30884, 30885, 30886, 30887, 30888, 30889, 30890, 30891, 30892, 30893, 30894, 30895, 30896, 30897, 30898, 30899, 30900, 30901, 30902, 30903, 30904, 30905, 31139, 31140, 31141, 31142, 31143, 31144, 31145, 31146, 31147, 31148, 31149, 31150, 31151, 31152, 31153, 31154, 31155, 31156, 31157, 31158, 31159, 31160, 31161, 31395, 31396, 31397, 31398, 31399, 31400, 31401, 31402, 31403, 31404, 31405, 31406, 31407, 31408, 31409, 31410, 31411, 31412, 31413, 31414, 31415, 31416, 31417, 31651, 31652, 31653, 31654, 31655, 31656, 31657, 31658, 31659, 31660, 31661, 31662, 31663, 31664, 31665, 31666, 31667, 31668, 31669, 31670, 31671, 31672, 31673, 31907, 31908, 31909, 31910, 31911, 31912, 31913, 31914, 31915, 31916, 31917, 31918, 31919, 31920, 31921, 31922, 31923, 31924, 31925, 31926, 31927, 31928, 31929, 32163, 32164, 32165, 32166, 32167, 32168, 32169, 32170, 32171, 32172, 32173, 32174, 32175, 32176, 32177, 32178, 32179, 32180, 32181, 32182, 32183, 32184, 32185, 32419, 32420, 32421, 32422, 32423, 32424, 32425, 32426, 32427, 32428, 32429, 32430, 32431, 32432, 32433, 32434, 32435, 32436, 32437, 32438, 32439, 32440, 32441, 32675, 32676, 32677, 32678, 32679, 32680, 32681, 32682, 32683, 32684, 32685, 32686, 32687, 32688, 32689, 32690, 32691, 32692, 32693, 32694, 32695, 32696, 32697, 77918, 77919, 77920, 77921, 77922, 77923, 77924, 77925, 77926, 77927, 77928, 77929, 77930, 77931, 77932, 77933, 77934, 77935, 77936, 77937, 77938, 77939, 77940, 77941, 77942, 77943, 77944, 78174, 78175, 78176, 78177, 78178, 78179, 78180, 78181, 78182, 78183, 78184, 78185, 78186, 78187, 78188, 78189, 78190, 78191, 78192, 78193, 78194, 78195, 78196, 78197, 78198, 78199, 78200, 78201, 78202, 78203, 78204, 78205, 78206, 78207, 78208, 78209, 78210, 78211, 78212, 78213, 78214, 78215, 78216, 78217, 78218, 78219, 78220, 78221, 78222, 78223, 78224, 78225, 78226, 78227, 78228, 78429, 78430, 78431, 78432, 78433, 78434, 78435, 78436, 78437, 78438, 78439, 78440, 78441, 78442, 78443, 78444, 78445, 78446, 78447, 78448, 78449, 78450, 78451, 78452, 78453, 78454, 78455, 78456, 78457, 78458, 78459, 78460, 78461, 78462, 78463, 78464, 78465, 78466, 78467, 78468, 78469, 78470, 78471, 78472, 78473, 78474, 78475, 78476, 78477, 78478, 78479, 78480, 78481, 78482, 78483, 78484, 78485, 78486, 78487, 78488, 78685, 78686, 78687, 78688, 78689, 78690, 78691, 78692, 78693, 78694, 78695, 78696, 78697, 78698, 78699, 78700, 78701, 78702, 78703, 78704, 78705, 78706, 78707, 78708, 78709, 78710, 78711, 78712, 78713, 78714, 78715, 78716, 78717, 78718, 78719, 78720, 78721, 78722, 78723, 78724, 78725, 78726, 78727, 78728, 78729, 78730, 78731, 78732, 78733, 78734, 78735, 78736, 78737, 78738, 78739, 78740, 78741, 78742, 78743, 78744, 78745, 78746, 78747, 78748, 78941, 78942, 78943, 78944, 78945, 78946, 78947, 78948, 78949, 78950, 78951, 78952, 78953, 78954, 78955, 78956, 78957, 78958, 78959, 78960, 78961, 78962, 78963, 78964, 78965, 78966, 78967, 78968, 78969, 78970, 78971, 78972, 78973, 78974, 78975, 78976, 78977, 78978, 78979, 78980, 78981, 78982, 78983, 78984, 78985, 78986, 78987, 78988, 78989, 78990, 78991, 78992, 78993, 78994, 78995, 78996, 78997, 78998, 78999, 79000, 79001, 79002, 79003, 79004, 79005, 79006, 79007, 79008, 79197, 79198, 79199, 79200, 79201, 79202, 79203, 79204, 79205, 79206, 79207, 79208, 79209, 79210, 79211, 79212, 79213, 79214, 79215, 79216, 79217, 79218, 79219, 79220, 79221, 79222, 79223, 79224, 79225, 79226, 79227, 79228, 79229, 79230, 79231, 79232, 79233, 79234, 79235, 79236, 79237, 79238, 79239, 79240, 79241, 79242, 79243, 79244, 79245, 79246, 79247, 79248, 79249, 79250, 79251, 79252, 79253, 79254, 79255, 79256, 79257, 79258, 79259, 79260, 79261, 79262, 79263, 79264, 79265, 79266, 79267, 79268, 79452, 79453, 79454, 79455, 79456, 79457, 79458, 79459, 79460, 79461, 79462, 79463, 79464, 79465, 79466, 79467, 79468, 79469, 79470, 79471, 79472, 79473, 79474, 79475, 79476, 79477, 79478, 79479, 79480, 79481, 79482, 79483, 79484, 79485, 79486, 79487, 79488, 79489, 79490, 79491, 79492, 79493, 79494, 79495, 79496, 79497, 79498, 79499, 79500, 79501, 79502, 79503, 79504, 79505, 79506, 79507, 79508, 79509, 79510, 79511, 79512, 79513, 79514, 79515, 79516, 79517, 79518, 79519, 79520, 79521, 79522, 79523, 79524, 79525, 79526, 79527, 79528, 79708, 79709, 79710, 79711, 79712, 79713, 79714, 79715, 79716, 79717, 79718, 79719, 79720, 79721, 79722, 79723, 79724, 79725, 79726, 79727, 79728, 79729, 79730, 79731, 79732, 79733, 79734, 79735, 79736, 79737, 79738, 79739, 79740, 79741, 79742, 79743, 79744, 79745, 79746, 79747, 79748, 79749, 79750, 79751, 79752, 79753, 79754, 79755, 79756, 79757, 79758, 79759, 79760, 79761, 79762, 79763, 79764, 79765, 79766, 79767, 79768, 79769, 79770, 79771, 79772, 79773, 79774, 79775, 79776, 79777, 79778, 79779, 79780, 79781, 79782, 79783, 79784, 79785, 79786, 79787, 79788, 79964, 79965, 79966, 79967, 79968, 79969, 79970, 79971, 79972, 79973, 79974, 79975, 79976, 79977, 79978, 79979, 79980, 79981, 79982, 79983, 79984, 79985, 79986, 79987, 79988, 79989, 79990, 79991, 79992, 79993, 79994, 79995, 79996, 79997, 79998, 79999, 80000, 80001, 80002, 80003, 80004, 80005, 80006, 80007, 80008, 80009, 80010, 80011, 80012, 80013, 80014, 80015, 80016, 80017, 80018, 80019, 80020, 80021, 80022, 80023, 80024, 80025, 80026, 80027, 80028, 80029, 80030, 80031, 80032, 80033, 80034, 80035, 80036, 80037, 80038, 80039, 80040, 80041, 80042, 80043, 80044, 80045, 80046, 80047, 80048, 80220, 80221, 80222, 80223, 80224, 80225, 80226, 80227, 80228, 80229, 80230, 80231, 80232, 80233, 80234, 80235, 80236, 80237, 80238, 80239, 80240, 80241, 80242, 80243, 80244, 80245, 80246, 80247, 80248, 80249, 80250, 80251, 80252, 80253, 80254, 80255, 80256, 80257, 80258, 80259, 80260, 80261, 80262, 80263, 80264, 80265, 80266, 80267, 80268, 80269, 80270, 80271, 80272, 80273, 80274, 80275, 80276, 80277, 80278, 80279, 80280, 80281, 80282, 80283, 80284, 80285, 80286, 80287, 80288, 80289, 80290, 80291, 80292, 80293, 80294, 80295, 80296, 80297, 80298, 80299, 80300, 80301, 80302, 80303, 80304, 80305, 80306, 80307, 80308, 80475, 80476, 80477, 80478, 80479, 80480, 80481, 80482, 80483, 80484, 80485, 80486, 80487, 80488, 80489, 80490, 80491, 80492, 80493, 80494, 80495, 80496, 80497, 80498, 80499, 80500, 80501, 80502, 80503, 80504, 80505, 80506, 80507, 80508, 80509, 80510, 80511, 80512, 80513, 80514, 80515, 80516, 80517, 80518, 80519, 80520, 80521, 80522, 80523, 80524, 80525, 80526, 80527, 80528, 80529, 80530, 80531, 80532, 80533, 80534, 80535, 80536, 80537, 80538, 80539, 80540, 80541, 80542, 80543, 80544, 80545, 80546, 80547, 80548, 80549, 80550, 80551, 80552, 80553, 80554, 80555, 80556, 80557, 80558, 80559, 80560, 80561, 80562, 80563, 80564, 80565, 80566, 80567, 80568, 80731, 80732, 80733, 80734, 80735, 80736, 80737, 80738, 80739, 80740, 80741, 80742, 80743, 80744, 80745, 80746, 80747, 80748, 80749, 80750, 80751, 80752, 80753, 80754, 80755, 80756, 80757, 80758, 80759, 80760, 80761, 80762, 80763, 80764, 80765, 80766, 80767, 80768, 80769, 80770, 80771, 80772, 80773, 80774, 80775, 80776, 80777, 80778, 80779, 80780, 80781, 80782, 80783, 80784, 80785, 80786, 80787, 80788, 80789, 80790, 80791, 80792, 80793, 80794, 80795, 80796, 80797, 80798, 80799, 80800, 80801, 80802, 80803, 80804, 80805, 80806, 80807, 80808, 80809, 80810, 80811, 80812, 80813, 80814, 80815, 80816, 80817, 80818, 80819, 80820, 80821, 80822, 80823, 80824, 80825, 80826, 80827, 80828, 80987, 80988, 80989, 80990, 80991, 80992, 80993, 80994, 80995, 80996, 80997, 80998, 80999, 81000, 81001, 81002, 81003, 81004, 81005, 81006, 81007, 81008, 81009, 81010, 81011, 81012, 81013, 81014, 81015, 81016, 81017, 81018, 81019, 81020, 81021, 81022, 81023, 81024, 81025, 81026, 81027, 81028, 81029, 81030, 81031, 81032, 81033, 81034, 81035, 81036, 81037, 81038, 81039, 81040, 81041, 81042, 81043, 81044, 81045, 81046, 81047, 81048, 81049, 81050, 81051, 81052, 81053, 81054, 81055, 81056, 81057, 81058, 81059, 81060, 81061, 81062, 81063, 81064, 81065, 81066, 81067, 81068, 81069, 81070, 81071, 81072, 81073, 81074, 81075, 81076, 81077, 81078, 81079, 81080, 81081, 81082, 81083, 81084, 81085, 81086, 81087, 81088, 81242, 81243, 81244, 81245, 81246, 81247, 81248, 81249, 81250, 81251, 81252, 81253, 81254, 81255, 81256, 81257, 81258, 81259, 81260, 81261, 81262, 81263, 81264, 81265, 81266, 81267, 81268, 81269, 81270, 81271, 81272, 81273, 81274, 81275, 81276, 81277, 81278, 81279, 81280, 81281, 81282, 81283, 81284, 81285, 81286, 81287, 81288, 81289, 81290, 81291, 81292, 81293, 81294, 81295, 81296, 81297, 81298, 81299, 81300, 81301, 81302, 81303, 81304, 81305, 81306, 81307, 81308, 81309, 81310, 81311, 81312, 81313, 81314, 81315, 81316, 81317, 81318, 81319, 81320, 81321, 81322, 81323, 81324, 81325, 81326, 81327, 81328, 81329, 81330, 81331, 81332, 81333, 81334, 81335, 81336, 81337, 81338, 81339, 81340, 81341, 81342, 81343, 81344, 81345, 81346, 81498, 81499, 81500, 81501, 81502, 81503, 81504, 81505, 81506, 81507, 81508, 81509, 81510, 81511, 81512, 81513, 81514, 81515, 81516, 81517, 81518, 81519, 81520, 81521, 81522, 81523, 81524, 81525, 81526, 81527, 81528, 81529, 81530, 81531, 81532, 81533, 81534, 81535, 81536, 81537, 81538, 81539, 81540, 81541, 81542, 81543, 81544, 81545, 81546, 81547, 81548, 81549, 81550, 81551, 81552, 81553, 81554, 81555, 81556, 81557, 81558, 81559, 81560, 81561, 81562, 81563, 81564, 81565, 81566, 81567, 81568, 81569, 81570, 81571, 81572, 81573, 81574, 81575, 81576, 81577, 81578, 81579, 81580, 81581, 81582, 81583, 81584, 81585, 81586, 81587, 81588, 81589, 81590, 81591, 81592, 81593, 81594, 81595, 81596, 81597, 81598, 81599, 81600, 81601, 81602, 81754, 81755, 81756, 81757, 81758, 81759, 81760, 81761, 81762, 81763, 81764, 81765, 81766, 81767, 81768, 81769, 81770, 81771, 81772, 81773, 81774, 81775, 81776, 81777, 81778, 81779, 81780, 81781, 81782, 81783, 81784, 81785, 81786, 81787, 81788, 81789, 81790, 81791, 81792, 81793, 81794, 81795, 81796, 81797, 81798, 81799, 81800, 81801, 81802, 81803, 81804, 81805, 81806, 81807, 81808, 81809, 81810, 81811, 81812, 81813, 81814, 81815, 81816, 81817, 81818, 81819, 81820, 81821, 81822, 81823, 81824, 81825, 81826, 81827, 81828, 81829, 81830, 81831, 81832, 81833, 81834, 81835, 81836, 81837, 81838, 81839, 81840, 81841, 81842, 81843, 81844, 81845, 81846, 81847, 81848, 81849, 81850, 81851, 81852, 81853, 81854, 81855, 81856, 81857, 82010, 82011, 82012, 82013, 82014, 82015, 82016, 82017, 82018, 82019, 82020, 82021, 82022, 82023, 82024, 82025, 82026, 82027, 82028, 82029, 82030, 82031, 82032, 82033, 82034, 82035, 82036, 82037, 82038, 82039, 82040, 82041, 82042, 82043, 82044, 82045, 82046, 82047, 82048, 82049, 82050, 82051, 82052, 82053, 82054, 82055, 82056, 82057, 82058, 82059, 82060, 82061, 82062, 82063, 82064, 82065, 82066, 82067, 82068, 82069, 82070, 82071, 82072, 82073, 82074, 82075, 82076, 82077, 82078, 82079, 82080, 82081, 82082, 82083, 82084, 82085, 82086, 82087, 82088, 82089, 82090, 82091, 82092, 82093, 82094, 82095, 82096, 82097, 82098, 82099, 82100, 82101, 82102, 82103, 82104, 82105, 82106, 82107, 82108, 82109, 82110, 82111, 82112, 82113, 82265, 82266, 82267, 82268, 82269, 82270, 82271, 82272, 82273, 82274, 82275, 82276, 82277, 82278, 82279, 82280, 82281, 82282, 82283, 82284, 82285, 82286, 82287, 82288, 82289, 82290, 82291, 82292, 82293, 82294, 82295, 82296, 82297, 82298, 82299, 82300, 82301, 82302, 82303, 82304, 82305, 82306, 82307, 82308, 82309, 82310, 82311, 82312, 82313, 82314, 82315, 82316, 82317, 82318, 82319, 82320, 82321, 82322, 82323, 82324, 82325, 82326, 82327, 82328, 82329, 82330, 82331, 82332, 82333, 82334, 82335, 82336, 82337, 82338, 82339, 82340, 82341, 82342, 82343, 82344, 82345, 82346, 82347, 82348, 82349, 82350, 82351, 82352, 82353, 82354, 82355, 82356, 82357, 82358, 82359, 82360, 82361, 82362, 82363, 82364, 82365, 82366, 82367, 82368, 82369, 82521, 82522, 82523, 82524, 82525, 82526, 82527, 82528, 82529, 82530, 82531, 82532, 82533, 82534, 82535, 82536, 82537, 82538, 82539, 82540, 82541, 82542, 82543, 82544, 82545, 82546, 82547, 82548, 82549, 82550, 82551, 82556, 82557, 82558, 82559, 82560, 82561, 82562, 82563, 82564, 82565, 82566, 82567, 82568, 82569, 82570, 82571, 82572, 82573, 82574, 82575, 82576, 82577, 82578, 82579, 82580, 82581, 82582, 82583, 82584, 82585, 82586, 82587, 82588, 82589, 82590, 82591, 82592, 82593, 82594, 82595, 82596, 82597, 82598, 82599, 82600, 82601, 82602, 82603, 82604, 82605, 82606, 82607, 82608, 82609, 82610, 82611, 82612, 82613, 82614, 82615, 82616, 82617, 82618, 82619, 82620, 82621, 82622, 82623, 82624, 82779, 82780, 82781, 82782, 82783, 82784, 82785, 82786, 82787, 82788, 82789, 82790, 82791, 82792, 82793, 82794, 82795, 82796, 82797, 82798, 82799, 82800, 82801, 82802, 82803, 82804, 82805, 82818, 82819, 82820, 82821, 82822, 82823, 82824, 82825, 82826, 82827, 82828, 82829, 82830, 82831, 82832, 82833, 82834, 82835, 82836, 82837, 82838, 82839, 82840, 82841, 82842, 82843, 82844, 82845, 82846, 82847, 82848, 82849, 82850, 82851, 82852, 82853, 82854, 82855, 82856, 82857, 82858, 82859, 82860, 82861, 82862, 82863, 82864, 82865, 82866, 82867, 82868, 82869, 82870, 82871, 82872, 82873, 82874, 82875, 82876, 82877, 82878, 82879, 82880, 83038, 83039, 83040, 83041, 83042, 83043, 83044, 83045, 83046, 83047, 83048, 83049, 83050, 83051, 83052, 83053, 83054, 83055, 83056, 83057, 83058, 83059, 83080, 83081, 83082, 83083, 83084, 83085, 83086, 83087, 83088, 83089, 83090, 83091, 83092, 83093, 83094, 83095, 83096, 83097, 83098, 83099, 83100, 83101, 83102, 83103, 83104, 83105, 83106, 83107, 83108, 83109, 83110, 83111, 83112, 83113, 83114, 83115, 83116, 83117, 83118, 83119, 83120, 83121, 83122, 83123, 83124, 83125, 83126, 83127, 83128, 83129, 83130, 83131, 83132, 83133, 83134, 83135, 83136, 83297, 83298, 83299, 83300, 83301, 83302, 83303, 83304, 83305, 83306, 83307, 83308, 83309, 83310, 83311, 83312, 83313, 83342, 83343, 83344, 83345, 83346, 83347, 83348, 83349, 83350, 83351, 83352, 83353, 83354, 83355, 83356, 83357, 83358, 83359, 83360, 83361, 83362, 83363, 83364, 83365, 83366, 83367, 83368, 83369, 83370, 83371, 83372, 83373, 83374, 83375, 83376, 83377, 83378, 83379, 83380, 83381, 83382, 83383, 83384, 83385, 83386, 83387, 83388, 83389, 83390, 83391, 83555, 83556, 83557, 83558, 83559, 83560, 83561, 83562, 83563, 83564, 83565, 83566, 83567, 83604, 83605, 83606, 83607, 83608, 83609, 83610, 83611, 83612, 83613, 83614, 83615, 83616, 83617, 83618, 83619, 83620, 83621, 83622, 83623, 83624, 83625, 83626, 83627, 83628, 83629, 83630, 83631, 83632, 83633, 83634, 83635, 83636, 83637, 83638, 83639, 83640, 83641, 83642, 83643, 83644, 83645, 83646, 83647, 83814, 83815, 83816, 83817, 83818, 83819, 83820, 83821, 83866, 83867, 83868, 83869, 83870, 83871, 83872, 83873, 83874, 83875, 83876, 83877, 83878, 83879, 83880, 83881, 83882, 83883, 83884, 83885, 83886, 83887, 83888, 83889, 83890, 83891, 83892, 83893, 83894, 83895, 83896, 83897, 83898, 83899, 83900, 83901, 83902, 84073, 84074, 84075, 84128, 84129, 84130, 84131, 84132, 84133, 84134, 84135, 84136, 84137, 84138, 84139, 84140, 84141, 84142, 84143, 84144, 84145, 84146, 84147, 84148, 84149, 84150, 84151, 84152, 84153, 84154, 84155, 84156, 84157, 84158, 84390, 84391, 84392, 84393, 84394, 84395, 84396, 84397, 84398, 84399, 84400, 84401, 84402, 84403, 84404, 84405, 84406, 84407, 84408, 84409, 84410, 84411, 84412, 84413, 84414, 84652, 84653, 84654, 84655, 84656, 84657, 84658, 84659, 84660, 84661, 84662, 84663, 84664, 84665, 84666, 84667, 84668, 84669, 84918, 84919, 84920, 84921, 84922, 84923, 84924, 84925, 85239, 85240, 85241, 85242, 85243, 85244, 85245, 85246, 85247, 85248, 85476, 85477, 85478, 85479, 85480, 85481, 85482, 85483, 85484, 85485, 85486, 85487, 85488, 85489, 85490, 85491, 85492, 85493, 85494, 85495, 85496, 85497, 85498, 85499, 85500, 85501, 85502, 85503, 85504, 85714, 85715, 85716, 85717, 85718, 85719, 85720, 85721, 85722, 85723, 85724, 85725, 85726, 85727, 85728, 85729, 85730, 85731, 85732, 85733, 85734, 85735, 85736, 85737, 85738, 85739, 85740, 85741, 85742, 85743, 85744, 85745, 85746, 85747, 85748, 85749, 85750, 85751, 85752, 85753, 85754, 85755, 85756, 85757, 85758, 85759, 85760, 85960, 85961, 85962, 85963, 85964, 85965, 85966, 85967, 85968, 85969, 85970, 85971, 85972, 85973, 85974, 85975, 85976, 85977, 85978, 85979, 85980, 85981, 85982, 85983, 85984, 85985, 85986, 85987, 85988, 85989, 85990, 85991, 85992, 85993, 85994, 85995, 85996, 85997, 85998, 85999, 86000, 86001, 86002, 86003, 86004, 86005, 86006, 86007, 86008, 86009, 86010, 86011, 86012, 86013, 86014, 86015, 86016, 86216, 86217, 86218, 86219, 86220, 86221, 86222, 86223, 86224, 86225, 86226, 86227, 86228, 86229, 86230, 86231, 86232, 86233, 86234, 86235, 86236, 86237, 86238, 86239, 86240, 86241, 86242, 86243, 86244, 86245, 86246, 86247, 86248, 86249, 86250, 86251, 86252, 86253, 86254, 86255, 86256, 86257, 86258, 86259, 86260, 86261, 86262, 86263, 86264, 86265, 86266, 86267, 86268, 86269, 86270, 86271, 86272, 86471, 86472, 86473, 86474, 86475, 86476, 86477, 86478, 86479, 86480, 86481, 86482, 86483, 86484, 86485, 86486, 86487, 86488, 86489, 86490, 86491, 86492, 86493, 86494, 86495, 86496, 86497, 86498, 86499, 86500, 86501, 86502, 86503, 86504, 86505, 86506, 86507, 86508, 86509, 86510, 86511, 86512, 86513, 86514, 86515, 86516, 86517, 86518, 86519, 86520, 86521, 86522, 86523, 86524, 86525, 86526, 86527, 86528, 86727, 86728, 86729, 86730, 86731, 86732, 86733, 86734, 86735, 86736, 86737, 86738, 86739, 86740, 86741, 86742, 86743, 86744, 86745, 86746, 86747, 86748, 86749, 86750, 86751, 86752, 86753, 86754, 86755, 86756, 86757, 86758, 86759, 86760, 86761, 86762, 86763, 86764, 86765, 86766, 86767, 86768, 86769, 86770, 86771, 86772, 86773, 86774, 86775, 86776, 86777, 86778, 86779, 86780, 86781, 86782, 86783, 86784, 86983, 86984, 86985, 86986, 86987, 86988, 86989, 86990, 86991, 86992, 86993, 86994, 86995, 86996, 86997, 86998, 86999, 87000, 87001, 87002, 87003, 87004, 87005, 87006, 87007, 87008, 87009, 87010, 87011, 87012, 87013, 87014, 87015, 87016, 87017, 87018, 87019, 87020, 87021, 87022, 87023, 87024, 87025, 87026, 87027, 87028, 87029, 87030, 87031, 87032, 87033, 87034, 87035, 87036, 87037, 87038, 87039, 87040, 87238, 87239, 87240, 87241, 87242, 87243, 87244, 87245, 87246, 87247, 87248, 87249, 87250, 87251, 87252, 87253, 87254, 87255, 87256, 87257, 87258, 87259, 87260, 87261, 87262, 87263, 87264, 87265, 87266, 87267, 87268, 87269, 87270, 87271, 87272, 87273, 87274, 87275, 87276, 87277, 87278, 87279, 87280, 87281, 87282, 87283, 87284, 87285, 87286, 87287, 87288, 87289, 87290, 87291, 87292, 87293, 87294, 87295, 87296, 87494, 87495, 87496, 87497, 87498, 87499, 87500, 87501, 87502, 87503, 87504, 87505, 87506, 87507, 87508, 87509, 87510, 87511, 87512, 87513, 87514, 87515, 87516, 87517, 87518, 87519, 87520, 87521, 87522, 87523, 87524, 87525, 87526, 87527, 87528, 87529, 87530, 87531, 87532, 87533, 87534, 87535, 87536, 87537, 87538, 87539, 87540, 87541, 87542, 87543, 87544, 87545, 87546, 87547, 87548, 87549, 87550, 87551, 87552, 87750, 87751, 87752, 87753, 87754, 87755, 87756, 87757, 87758, 87759, 87760, 87761, 87762, 87763, 87764, 87765, 87766, 87767, 87768, 87769, 87770, 87771, 87772, 87773, 87774, 87775, 87776, 87777, 87778, 87779, 87780, 87781, 87782, 87783, 87784, 87785, 87786, 87787, 87788, 87789, 87790, 87791, 87792, 87793, 87794, 87795, 87796, 87797, 87798, 87799, 87800, 87801, 87802, 87803, 87804, 87805, 87806, 87807, 87808, 88005, 88006, 88007, 88008, 88009, 88010, 88011, 88012, 88013, 88014, 88015, 88016, 88017, 88018, 88019, 88020, 88021, 88022, 88023, 88024, 88025, 88026, 88027, 88028, 88029, 88030, 88031, 88032, 88033, 88034, 88035, 88036, 88037, 88038, 88039, 88040, 88041, 88042, 88043, 88044, 88045, 88046, 88047, 88048, 88049, 88050, 88051, 88052, 88053, 88054, 88055, 88056, 88057, 88058, 88059, 88060, 88061, 88062, 88063, 88064, 88261, 88262, 88263, 88264, 88265, 88266, 88267, 88268, 88269, 88270, 88271, 88272, 88273, 88274, 88275, 88276, 88277, 88278, 88279, 88280, 88281, 88282, 88283, 88284, 88285, 88286, 88287, 88288, 88289, 88290, 88291, 88292, 88293, 88294, 88295, 88296, 88297, 88298, 88299, 88300, 88301, 88302, 88303, 88304, 88305, 88306, 88307, 88308, 88309, 88310, 88311, 88312, 88313, 88314, 88315, 88316, 88317, 88318, 88319, 88320, 88517, 88518, 88519, 88520, 88521, 88522, 88523, 88524, 88525, 88526, 88527, 88528, 88529, 88530, 88531, 88532, 88533, 88534, 88535, 88536, 88537, 88538, 88539, 88540, 88541, 88542, 88543, 88544, 88545, 88546, 88547, 88548, 88549, 88550, 88551, 88552, 88553, 88554, 88555, 88556, 88557, 88558, 88559, 88560, 88561, 88562, 88563, 88564, 88565, 88566, 88567, 88568, 88569, 88570, 88571, 88572, 88573, 88574, 88575, 88576, 88772, 88773, 88774, 88775, 88776, 88777, 88778, 88779, 88780, 88781, 88782, 88783, 88784, 88785, 88786, 88787, 88788, 88789, 88790, 88791, 88792, 88793, 88794, 88795, 88796, 88797, 88798, 88799, 88800, 88801, 88802, 88803, 88804, 88805, 88806, 88807, 88808, 88809, 88810, 88811, 88812, 88813, 88814, 88815, 88816, 88817, 88818, 88819, 88820, 88821, 88822, 88823, 88824, 88825, 88826, 88827, 88828, 88829, 88830, 88831, 88832, 89028, 89029, 89030, 89031, 89032, 89033, 89034, 89035, 89036, 89037, 89038, 89039, 89040, 89041, 89042, 89043, 89044, 89045, 89046, 89047, 89048, 89049, 89050, 89051, 89052, 89053, 89054, 89055, 89056, 89057, 89058, 89059, 89060, 89061, 89062, 89063, 89064, 89065, 89066, 89067, 89068, 89069, 89070, 89071, 89072, 89073, 89074, 89075, 89076, 89077, 89078, 89079, 89080, 89283, 89284, 89285, 89286, 89287, 89288, 89289, 89290, 89291, 89292, 89293, 89294, 89295, 89296, 89297, 89298, 89299, 89300, 89301, 89302, 89303, 89304, 89305, 89306, 89307, 89308, 89309, 89310, 89311, 89312, 89313, 89314, 89315, 89316, 89317, 89318, 89319, 89320, 89321, 89322, 89539, 89540, 89541, 89542, 89543, 89544, 89545, 89546, 89547, 89548, 89549, 89550, 89551, 89552, 89553, 89554, 89555, 89556, 89557, 89558, 89559, 89560, 89561, 89562, 89563, 89564, 89565, 89566, 89567, 89568, 89569, 89570, 89667, 89668, 89669, 89670, 89671, 89672, 89673, 89674, 89675, 89676, 89795, 89796, 89797, 89798, 89799, 89800, 89801, 89802, 89803, 89804, 89805, 89806, 89807, 89808, 89809, 89810, 89811, 89812, 89813, 89814, 89815, 89816, 89817, 89818, 89819, 89820, 89821, 89822, 89823, 89824, 89923, 89924, 89925, 89926, 89927, 89928, 89929, 89930, 89931, 89932, 89933, 89934, 89935, 89936, 89937, 89938, 89939, 89940, 89941, 89942, 89943, 89944, 89945, 89946, 89947, 89948, 89949, 89950, 90050, 90051, 90052, 90053, 90054, 90055, 90056, 90057, 90058, 90059, 90060, 90061, 90062, 90063, 90064, 90065, 90066, 90067, 90068, 90069, 90070, 90071, 90072, 90073, 90074, 90075, 90076, 90077, 90078, 90179, 90180, 90181, 90182, 90183, 90184, 90185, 90186, 90187, 90188, 90189, 90190, 90191, 90192, 90193, 90194, 90195, 90196, 90197, 90198, 90199, 90200, 90201, 90202, 90203, 90204, 90205, 90206, 90207, 90208, 90209, 90210, 90211, 90212, 90213, 90214, 90215, 90306, 90307, 90308, 90309, 90310, 90311, 90312, 90313, 90314, 90315, 90316, 90317, 90318, 90319, 90320, 90321, 90322, 90323, 90324, 90325, 90326, 90327, 90328, 90329, 90330, 90331, 90332, 90434, 90435, 90436, 90437, 90438, 90439, 90440, 90441, 90442, 90443, 90444, 90445, 90446, 90447, 90448, 90449, 90450, 90451, 90452, 90453, 90454, 90455, 90456, 90457, 90458, 90459, 90460, 90461, 90462, 90463, 90464, 90465, 90466, 90467, 90468, 90469, 90470, 90471, 90562, 90563, 90564, 90565, 90566, 90567, 90568, 90569, 90570, 90571, 90572, 90573, 90574, 90575, 90690, 90691, 90692, 90693, 90694, 90695, 90696, 90697, 90698, 90699, 90700, 90701, 90702, 90703, 90704, 90705, 90706, 90707, 90708, 90709, 90710, 90711, 90712, 90713, 90714, 90715, 90716, 90717, 90718, 90719, 90720, 90721, 90722, 90723, 90724, 90725, 90726, 90727, 90817, 90818, 90819, 90820, 90821, 90822, 90823, 90824, 90825, 90946, 90947, 90948, 90949, 90950, 90951, 90952, 90953, 90954, 90955, 90956, 90957, 90958, 90959, 90960, 90961, 90962, 90963, 90964, 90965, 90966, 90967, 90968, 90969, 90970, 90971, 90972, 90973, 90974, 90975, 90976, 90977, 90978, 90979, 90980, 90981, 90982, 90983, 91073, 91074, 91075, 91202, 91203, 91204, 91205, 91206, 91207, 91208, 91209, 91210, 91211, 91212, 91213, 91214, 91215, 91216, 91217, 91218, 91219, 91220, 91221, 91222, 91223, 91224, 91225, 91226, 91227, 91228, 91229, 91230, 91231, 91232, 91233, 91234, 91235, 91236, 91237, 91238, 91239, 91458, 91459, 91460, 91461, 91462, 91463, 91464, 91465, 91466, 91467, 91468, 91469, 91470, 91471, 91472, 91473, 91474, 91475, 91476, 91477, 91478, 91479, 91480, 91481, 91482, 91483, 91484, 91485, 91486, 91487, 91488, 91489, 91490, 91491, 91492, 91493, 91494, 91495, 91714, 91715, 91716, 91717, 91718, 91719, 91720, 91721, 91722, 91723, 91724, 91725, 91726, 91727, 91728, 91729, 91730, 91731, 91732, 91733, 91734, 91735, 91736, 91737, 91738, 91739, 91740, 91741, 91742, 91743, 91744, 91745, 91746, 91747, 91748, 91749, 91750, 91751, 91969, 91970, 91971, 91972, 91973, 91974, 91975, 91976, 91977, 91978, 91979, 91980, 91981, 91982, 91983, 91984, 91985, 91986, 91987, 91988, 91989, 91990, 91991, 91992, 91993, 91994, 91995, 91996, 91997, 91998, 91999, 92000, 92001, 92002, 92003, 92004, 92005, 92006, 92007, 92225, 92226, 92227, 92228, 92229, 92230, 92231, 92232, 92233, 92234, 92235, 92236, 92237, 92238, 92239, 92240, 92241, 92242, 92243, 92244, 92245, 92246, 92247, 92248, 92249, 92250, 92251, 92252, 92253, 92254, 92255, 92256, 92257, 92258, 92259, 92260, 92261, 92262, 92263, 92481, 92482, 92483, 92484, 92485, 92486, 92487, 92488, 92489, 92490, 92491, 92492, 92493, 92494, 92495, 92496, 92497, 92498, 92499, 92500, 92501, 92502, 92503, 92504, 92505, 92506, 92507, 92508, 92509, 92510, 92511, 92512, 92513, 92514, 92515, 92516, 92517, 92518, 92519, 92737, 92738, 92739, 92740, 92741, 92742, 92743, 92744, 92745, 92746, 92747, 92748, 92749, 92750, 92751, 92752, 92753, 92754, 92755, 92756, 92757, 92758, 92759, 92760, 92761, 92762, 92763, 92764, 92765, 92766, 92767, 92768, 92769, 92770, 92771, 92772, 92773, 92774, 92775, 92993, 92994, 92995, 92996, 92997, 92998, 92999, 93000, 93001, 93002, 93003, 93004, 93005, 93006, 93007, 93008, 93009, 93010, 93011, 93012, 93013, 93014, 93015, 93016, 93017, 93018, 93019, 93020, 93021, 93022, 93023, 93024, 93025, 93026, 93027, 93028, 93029, 93030, 93031, 93248, 93249, 93250, 93251, 93252, 93253, 93254, 93255, 93256, 93257, 93258, 93259, 93260, 93261, 93262, 93263, 93264, 93265, 93266, 93267, 93268, 93269, 93270, 93271, 93272, 93273, 93274, 93275, 93276, 93277, 93278, 93279, 93280, 93281, 93282, 93283, 93284, 93285, 93286, 93287, 93504, 93505, 93506, 93507, 93508, 93509, 93510, 93511, 93512, 93513, 93514, 93515, 93516, 93517, 93518, 93519, 93520, 93521, 93522, 93523, 93524, 93525, 93526, 93527, 93528, 93529, 93530, 93531, 93532, 93533, 93534, 93535, 93536, 93537, 93538, 93539, 93540, 93541, 93542, 93543, 93760, 93761, 93762, 93763, 93764, 93765, 93766, 93767, 93768, 93769, 93770, 93771, 93772, 93773, 93774, 93775, 93776, 93777, 93778, 93779, 93780, 93781, 93782, 93783, 93784, 93785, 93786, 93787, 93788, 93789, 93790, 93791, 93792, 93793, 93794, 93795, 93796, 93797, 93798, 93799, 94026, 94027, 94028, 94029, 94030, 94031, 94032, 94033, 94034, 94035, 94036, 94037, 94038, 94039, 94040, 94041, 94042, 94043, 94044, 94045, 94046, 94047, 94048, 94049, 94050, 94051, 94052, 94053, 94054, 94055, 94302, 94303, 94304, 94305, 94306, 94307, 94308, 94309, 94310, 94311, 189792, 189793, 189794, 189795, 189796, 189797, 189798, 190034, 190035, 190036, 190037, 190038, 190039, 190040, 190041, 190042, 190043, 190044, 190045, 190046, 190047, 190048, 190049, 190050, 190051, 190052, 190053, 190054, 190283, 190284, 190285, 190286, 190287, 190288, 190289, 190290, 190291, 190292, 190293, 190294, 190295, 190296, 190297, 190298, 190299, 190300, 190301, 190302, 190303, 190304, 190305, 190306, 190307, 190308, 190309, 190310, 190539, 190540, 190541, 190542, 190543, 190544, 190545, 190546, 190547, 190548, 190549, 190550, 190551, 190552, 190553, 190554, 190555, 190556, 190557, 190558, 190559, 190560, 190561, 190562, 190563, 190564, 190565, 190566, 190795, 190796, 190797, 190798, 190799, 190800, 190801, 190802, 190803, 190804, 190805, 190806, 190807, 190808, 190809, 190810, 190811, 190812, 190813, 190814, 190815, 190816, 190817, 190818, 190819, 190820, 190821, 190822, 191051, 191052, 191053, 191054, 191055, 191056, 191057, 191058, 191059, 191060, 191061, 191062, 191063, 191064, 191065, 191066, 191067, 191068, 191069, 191070, 191071, 191072, 191073, 191074, 191075, 191076, 191077, 191078, 191307, 191308, 191309, 191310, 191311, 191312, 191313, 191314, 191315, 191316, 191317, 191318, 191319, 191320, 191321, 191322, 191323, 191324, 191325, 191326, 191327, 191328, 191329, 191330, 191331, 191332, 191333, 191334, 191563, 191564, 191565, 191566, 191567, 191568, 191569, 191570, 191571, 191572, 191573, 191574, 191575, 191576, 191577, 191578, 191579, 191580, 191581, 191582, 191583, 191584, 191585, 191586, 191587, 191588, 191589, 191590, 191819, 191820, 191821, 191822, 191823, 191824, 191825, 191826, 191827, 191828, 191829, 191830, 191831, 191832, 191833, 191834, 191835, 191836, 191837, 191838, 191839, 191840, 191841, 191842, 191843, 191844, 191845, 191846, 192075, 192076, 192077, 192078, 192079, 192080, 192081, 192082, 192083, 192084, 192085, 192086, 192087, 192088, 192089, 192090, 192091, 192092, 192093, 192094, 192095, 192096, 192097, 192098, 192099, 192100, 192101, 192102, 192331, 192332, 192333, 192334, 192335, 192336, 192337, 192338, 192339, 192340, 192341, 192342, 192343, 192344, 192345, 192346, 192347, 192348, 192349, 192350, 192351, 192352, 192353, 192354, 192355, 192356, 192357, 192358, 192587, 192588, 192589, 192590, 192591, 192592, 192593, 192594, 192595, 192596, 192597, 192598, 192599, 192600, 192601, 192602, 192603, 192604, 192605, 192606, 192607, 192608, 192609, 192610, 192611, 192612, 192613, 192614, 192843, 192844, 192845, 192846, 192847, 192848, 192849, 192850, 192851, 192852, 192853, 192854, 192855, 192856, 192857, 192858, 192859, 192860, 192861, 192862, 192863, 192864, 192865, 193099, 193100, 193101, 193102, 193103, 193104, 193105, 193106, 193107, 193108, 193109, 193110, 193111, 193112, 193355, 193356, 193357, 193358, 193359]\n"
          ],
          "name": "stdout"
        },
        {
          "output_type": "execute_result",
          "data": {
            "text/plain": [
              "4396"
            ]
          },
          "metadata": {
            "tags": []
          },
          "execution_count": 21
        }
      ]
    },
    {
      "cell_type": "markdown",
      "metadata": {
        "id": "xvfNcXD3oPY2",
        "colab_type": "text"
      },
      "source": [
        "*# Based on the three seperate functions above, we can create a intergrated function called encodedpixels_to_completepixels to convert one record of encodedPixels to a list of decoded Pixels* \n"
      ]
    },
    {
      "cell_type": "code",
      "metadata": {
        "id": "aOyLIE-CWo0w",
        "colab_type": "code",
        "colab": {}
      },
      "source": [
        "# convert the string of encoded pixels to a list to complete pixels\n",
        "def encodedpixels_to_completepixels(row):\n",
        "  if (isinstance(row['EncodedPixels'],str)):\n",
        "    li = row['EncodedPixels'].split()\n",
        "    result= [int(i) for i in li]\n",
        "    list = []\n",
        "    for i in range(len(result)):\n",
        "      if i%2 ==0:\n",
        "        list.append(result[i])\n",
        "      else:\n",
        "        for j in range(1, result[i]):\n",
        "          list.append(result[i-1]+j)\n",
        "    return list\n",
        "  else:\n",
        "    pass\n",
        "#encodedpixels_to_completepixels(train_X['EncodedPixels'][0])[0:4]\n"
      ],
      "execution_count": 0,
      "outputs": []
    },
    {
      "cell_type": "code",
      "metadata": {
        "id": "JWVY1brfkWqX",
        "colab_type": "code",
        "outputId": "e216c950-cd80-4648-8d56-93874ca57c8f",
        "colab": {
          "base_uri": "https://localhost:8080/",
          "height": 70
        }
      },
      "source": [
        "# run the encodedepixels to completepixels to an example \n",
        "print (encodedpixels_to_completepixels(train_X.iloc[0,:]))\n",
        "print (\"The dtype of the element from the converted resutl: \",type(encodedpixels_to_completepixels(train_X.iloc[0,:])[0]))"
      ],
      "execution_count": 23,
      "outputs": [
        {
          "output_type": "stream",
          "text": [
            "[29102, 29103, 29104, 29105, 29106, 29107, 29108, 29109, 29110, 29111, 29112, 29113, 29346, 29347, 29348, 29349, 29350, 29351, 29352, 29353, 29354, 29355, 29356, 29357, 29358, 29359, 29360, 29361, 29362, 29363, 29364, 29365, 29366, 29367, 29368, 29369, 29602, 29603, 29604, 29605, 29606, 29607, 29608, 29609, 29610, 29611, 29612, 29613, 29614, 29615, 29616, 29617, 29618, 29619, 29620, 29621, 29622, 29623, 29624, 29625, 29858, 29859, 29860, 29861, 29862, 29863, 29864, 29865, 29866, 29867, 29868, 29869, 29870, 29871, 29872, 29873, 29874, 29875, 29876, 29877, 29878, 29879, 29880, 29881, 30114, 30115, 30116, 30117, 30118, 30119, 30120, 30121, 30122, 30123, 30124, 30125, 30126, 30127, 30128, 30129, 30130, 30131, 30132, 30133, 30134, 30135, 30136, 30137, 30370, 30371, 30372, 30373, 30374, 30375, 30376, 30377, 30378, 30379, 30380, 30381, 30382, 30383, 30384, 30385, 30386, 30387, 30388, 30389, 30390, 30391, 30392, 30393, 30626, 30627, 30628, 30629, 30630, 30631, 30632, 30633, 30634, 30635, 30636, 30637, 30638, 30639, 30640, 30641, 30642, 30643, 30644, 30645, 30646, 30647, 30648, 30649, 30882, 30883, 30884, 30885, 30886, 30887, 30888, 30889, 30890, 30891, 30892, 30893, 30894, 30895, 30896, 30897, 30898, 30899, 30900, 30901, 30902, 30903, 30904, 30905, 31139, 31140, 31141, 31142, 31143, 31144, 31145, 31146, 31147, 31148, 31149, 31150, 31151, 31152, 31153, 31154, 31155, 31156, 31157, 31158, 31159, 31160, 31161, 31395, 31396, 31397, 31398, 31399, 31400, 31401, 31402, 31403, 31404, 31405, 31406, 31407, 31408, 31409, 31410, 31411, 31412, 31413, 31414, 31415, 31416, 31417, 31651, 31652, 31653, 31654, 31655, 31656, 31657, 31658, 31659, 31660, 31661, 31662, 31663, 31664, 31665, 31666, 31667, 31668, 31669, 31670, 31671, 31672, 31673, 31907, 31908, 31909, 31910, 31911, 31912, 31913, 31914, 31915, 31916, 31917, 31918, 31919, 31920, 31921, 31922, 31923, 31924, 31925, 31926, 31927, 31928, 31929, 32163, 32164, 32165, 32166, 32167, 32168, 32169, 32170, 32171, 32172, 32173, 32174, 32175, 32176, 32177, 32178, 32179, 32180, 32181, 32182, 32183, 32184, 32185, 32419, 32420, 32421, 32422, 32423, 32424, 32425, 32426, 32427, 32428, 32429, 32430, 32431, 32432, 32433, 32434, 32435, 32436, 32437, 32438, 32439, 32440, 32441, 32675, 32676, 32677, 32678, 32679, 32680, 32681, 32682, 32683, 32684, 32685, 32686, 32687, 32688, 32689, 32690, 32691, 32692, 32693, 32694, 32695, 32696, 32697, 77918, 77919, 77920, 77921, 77922, 77923, 77924, 77925, 77926, 77927, 77928, 77929, 77930, 77931, 77932, 77933, 77934, 77935, 77936, 77937, 77938, 77939, 77940, 77941, 77942, 77943, 77944, 78174, 78175, 78176, 78177, 78178, 78179, 78180, 78181, 78182, 78183, 78184, 78185, 78186, 78187, 78188, 78189, 78190, 78191, 78192, 78193, 78194, 78195, 78196, 78197, 78198, 78199, 78200, 78201, 78202, 78203, 78204, 78205, 78206, 78207, 78208, 78209, 78210, 78211, 78212, 78213, 78214, 78215, 78216, 78217, 78218, 78219, 78220, 78221, 78222, 78223, 78224, 78225, 78226, 78227, 78228, 78429, 78430, 78431, 78432, 78433, 78434, 78435, 78436, 78437, 78438, 78439, 78440, 78441, 78442, 78443, 78444, 78445, 78446, 78447, 78448, 78449, 78450, 78451, 78452, 78453, 78454, 78455, 78456, 78457, 78458, 78459, 78460, 78461, 78462, 78463, 78464, 78465, 78466, 78467, 78468, 78469, 78470, 78471, 78472, 78473, 78474, 78475, 78476, 78477, 78478, 78479, 78480, 78481, 78482, 78483, 78484, 78485, 78486, 78487, 78488, 78685, 78686, 78687, 78688, 78689, 78690, 78691, 78692, 78693, 78694, 78695, 78696, 78697, 78698, 78699, 78700, 78701, 78702, 78703, 78704, 78705, 78706, 78707, 78708, 78709, 78710, 78711, 78712, 78713, 78714, 78715, 78716, 78717, 78718, 78719, 78720, 78721, 78722, 78723, 78724, 78725, 78726, 78727, 78728, 78729, 78730, 78731, 78732, 78733, 78734, 78735, 78736, 78737, 78738, 78739, 78740, 78741, 78742, 78743, 78744, 78745, 78746, 78747, 78748, 78941, 78942, 78943, 78944, 78945, 78946, 78947, 78948, 78949, 78950, 78951, 78952, 78953, 78954, 78955, 78956, 78957, 78958, 78959, 78960, 78961, 78962, 78963, 78964, 78965, 78966, 78967, 78968, 78969, 78970, 78971, 78972, 78973, 78974, 78975, 78976, 78977, 78978, 78979, 78980, 78981, 78982, 78983, 78984, 78985, 78986, 78987, 78988, 78989, 78990, 78991, 78992, 78993, 78994, 78995, 78996, 78997, 78998, 78999, 79000, 79001, 79002, 79003, 79004, 79005, 79006, 79007, 79008, 79197, 79198, 79199, 79200, 79201, 79202, 79203, 79204, 79205, 79206, 79207, 79208, 79209, 79210, 79211, 79212, 79213, 79214, 79215, 79216, 79217, 79218, 79219, 79220, 79221, 79222, 79223, 79224, 79225, 79226, 79227, 79228, 79229, 79230, 79231, 79232, 79233, 79234, 79235, 79236, 79237, 79238, 79239, 79240, 79241, 79242, 79243, 79244, 79245, 79246, 79247, 79248, 79249, 79250, 79251, 79252, 79253, 79254, 79255, 79256, 79257, 79258, 79259, 79260, 79261, 79262, 79263, 79264, 79265, 79266, 79267, 79268, 79452, 79453, 79454, 79455, 79456, 79457, 79458, 79459, 79460, 79461, 79462, 79463, 79464, 79465, 79466, 79467, 79468, 79469, 79470, 79471, 79472, 79473, 79474, 79475, 79476, 79477, 79478, 79479, 79480, 79481, 79482, 79483, 79484, 79485, 79486, 79487, 79488, 79489, 79490, 79491, 79492, 79493, 79494, 79495, 79496, 79497, 79498, 79499, 79500, 79501, 79502, 79503, 79504, 79505, 79506, 79507, 79508, 79509, 79510, 79511, 79512, 79513, 79514, 79515, 79516, 79517, 79518, 79519, 79520, 79521, 79522, 79523, 79524, 79525, 79526, 79527, 79528, 79708, 79709, 79710, 79711, 79712, 79713, 79714, 79715, 79716, 79717, 79718, 79719, 79720, 79721, 79722, 79723, 79724, 79725, 79726, 79727, 79728, 79729, 79730, 79731, 79732, 79733, 79734, 79735, 79736, 79737, 79738, 79739, 79740, 79741, 79742, 79743, 79744, 79745, 79746, 79747, 79748, 79749, 79750, 79751, 79752, 79753, 79754, 79755, 79756, 79757, 79758, 79759, 79760, 79761, 79762, 79763, 79764, 79765, 79766, 79767, 79768, 79769, 79770, 79771, 79772, 79773, 79774, 79775, 79776, 79777, 79778, 79779, 79780, 79781, 79782, 79783, 79784, 79785, 79786, 79787, 79788, 79964, 79965, 79966, 79967, 79968, 79969, 79970, 79971, 79972, 79973, 79974, 79975, 79976, 79977, 79978, 79979, 79980, 79981, 79982, 79983, 79984, 79985, 79986, 79987, 79988, 79989, 79990, 79991, 79992, 79993, 79994, 79995, 79996, 79997, 79998, 79999, 80000, 80001, 80002, 80003, 80004, 80005, 80006, 80007, 80008, 80009, 80010, 80011, 80012, 80013, 80014, 80015, 80016, 80017, 80018, 80019, 80020, 80021, 80022, 80023, 80024, 80025, 80026, 80027, 80028, 80029, 80030, 80031, 80032, 80033, 80034, 80035, 80036, 80037, 80038, 80039, 80040, 80041, 80042, 80043, 80044, 80045, 80046, 80047, 80048, 80220, 80221, 80222, 80223, 80224, 80225, 80226, 80227, 80228, 80229, 80230, 80231, 80232, 80233, 80234, 80235, 80236, 80237, 80238, 80239, 80240, 80241, 80242, 80243, 80244, 80245, 80246, 80247, 80248, 80249, 80250, 80251, 80252, 80253, 80254, 80255, 80256, 80257, 80258, 80259, 80260, 80261, 80262, 80263, 80264, 80265, 80266, 80267, 80268, 80269, 80270, 80271, 80272, 80273, 80274, 80275, 80276, 80277, 80278, 80279, 80280, 80281, 80282, 80283, 80284, 80285, 80286, 80287, 80288, 80289, 80290, 80291, 80292, 80293, 80294, 80295, 80296, 80297, 80298, 80299, 80300, 80301, 80302, 80303, 80304, 80305, 80306, 80307, 80308, 80475, 80476, 80477, 80478, 80479, 80480, 80481, 80482, 80483, 80484, 80485, 80486, 80487, 80488, 80489, 80490, 80491, 80492, 80493, 80494, 80495, 80496, 80497, 80498, 80499, 80500, 80501, 80502, 80503, 80504, 80505, 80506, 80507, 80508, 80509, 80510, 80511, 80512, 80513, 80514, 80515, 80516, 80517, 80518, 80519, 80520, 80521, 80522, 80523, 80524, 80525, 80526, 80527, 80528, 80529, 80530, 80531, 80532, 80533, 80534, 80535, 80536, 80537, 80538, 80539, 80540, 80541, 80542, 80543, 80544, 80545, 80546, 80547, 80548, 80549, 80550, 80551, 80552, 80553, 80554, 80555, 80556, 80557, 80558, 80559, 80560, 80561, 80562, 80563, 80564, 80565, 80566, 80567, 80568, 80731, 80732, 80733, 80734, 80735, 80736, 80737, 80738, 80739, 80740, 80741, 80742, 80743, 80744, 80745, 80746, 80747, 80748, 80749, 80750, 80751, 80752, 80753, 80754, 80755, 80756, 80757, 80758, 80759, 80760, 80761, 80762, 80763, 80764, 80765, 80766, 80767, 80768, 80769, 80770, 80771, 80772, 80773, 80774, 80775, 80776, 80777, 80778, 80779, 80780, 80781, 80782, 80783, 80784, 80785, 80786, 80787, 80788, 80789, 80790, 80791, 80792, 80793, 80794, 80795, 80796, 80797, 80798, 80799, 80800, 80801, 80802, 80803, 80804, 80805, 80806, 80807, 80808, 80809, 80810, 80811, 80812, 80813, 80814, 80815, 80816, 80817, 80818, 80819, 80820, 80821, 80822, 80823, 80824, 80825, 80826, 80827, 80828, 80987, 80988, 80989, 80990, 80991, 80992, 80993, 80994, 80995, 80996, 80997, 80998, 80999, 81000, 81001, 81002, 81003, 81004, 81005, 81006, 81007, 81008, 81009, 81010, 81011, 81012, 81013, 81014, 81015, 81016, 81017, 81018, 81019, 81020, 81021, 81022, 81023, 81024, 81025, 81026, 81027, 81028, 81029, 81030, 81031, 81032, 81033, 81034, 81035, 81036, 81037, 81038, 81039, 81040, 81041, 81042, 81043, 81044, 81045, 81046, 81047, 81048, 81049, 81050, 81051, 81052, 81053, 81054, 81055, 81056, 81057, 81058, 81059, 81060, 81061, 81062, 81063, 81064, 81065, 81066, 81067, 81068, 81069, 81070, 81071, 81072, 81073, 81074, 81075, 81076, 81077, 81078, 81079, 81080, 81081, 81082, 81083, 81084, 81085, 81086, 81087, 81088, 81242, 81243, 81244, 81245, 81246, 81247, 81248, 81249, 81250, 81251, 81252, 81253, 81254, 81255, 81256, 81257, 81258, 81259, 81260, 81261, 81262, 81263, 81264, 81265, 81266, 81267, 81268, 81269, 81270, 81271, 81272, 81273, 81274, 81275, 81276, 81277, 81278, 81279, 81280, 81281, 81282, 81283, 81284, 81285, 81286, 81287, 81288, 81289, 81290, 81291, 81292, 81293, 81294, 81295, 81296, 81297, 81298, 81299, 81300, 81301, 81302, 81303, 81304, 81305, 81306, 81307, 81308, 81309, 81310, 81311, 81312, 81313, 81314, 81315, 81316, 81317, 81318, 81319, 81320, 81321, 81322, 81323, 81324, 81325, 81326, 81327, 81328, 81329, 81330, 81331, 81332, 81333, 81334, 81335, 81336, 81337, 81338, 81339, 81340, 81341, 81342, 81343, 81344, 81345, 81346, 81498, 81499, 81500, 81501, 81502, 81503, 81504, 81505, 81506, 81507, 81508, 81509, 81510, 81511, 81512, 81513, 81514, 81515, 81516, 81517, 81518, 81519, 81520, 81521, 81522, 81523, 81524, 81525, 81526, 81527, 81528, 81529, 81530, 81531, 81532, 81533, 81534, 81535, 81536, 81537, 81538, 81539, 81540, 81541, 81542, 81543, 81544, 81545, 81546, 81547, 81548, 81549, 81550, 81551, 81552, 81553, 81554, 81555, 81556, 81557, 81558, 81559, 81560, 81561, 81562, 81563, 81564, 81565, 81566, 81567, 81568, 81569, 81570, 81571, 81572, 81573, 81574, 81575, 81576, 81577, 81578, 81579, 81580, 81581, 81582, 81583, 81584, 81585, 81586, 81587, 81588, 81589, 81590, 81591, 81592, 81593, 81594, 81595, 81596, 81597, 81598, 81599, 81600, 81601, 81602, 81754, 81755, 81756, 81757, 81758, 81759, 81760, 81761, 81762, 81763, 81764, 81765, 81766, 81767, 81768, 81769, 81770, 81771, 81772, 81773, 81774, 81775, 81776, 81777, 81778, 81779, 81780, 81781, 81782, 81783, 81784, 81785, 81786, 81787, 81788, 81789, 81790, 81791, 81792, 81793, 81794, 81795, 81796, 81797, 81798, 81799, 81800, 81801, 81802, 81803, 81804, 81805, 81806, 81807, 81808, 81809, 81810, 81811, 81812, 81813, 81814, 81815, 81816, 81817, 81818, 81819, 81820, 81821, 81822, 81823, 81824, 81825, 81826, 81827, 81828, 81829, 81830, 81831, 81832, 81833, 81834, 81835, 81836, 81837, 81838, 81839, 81840, 81841, 81842, 81843, 81844, 81845, 81846, 81847, 81848, 81849, 81850, 81851, 81852, 81853, 81854, 81855, 81856, 81857, 82010, 82011, 82012, 82013, 82014, 82015, 82016, 82017, 82018, 82019, 82020, 82021, 82022, 82023, 82024, 82025, 82026, 82027, 82028, 82029, 82030, 82031, 82032, 82033, 82034, 82035, 82036, 82037, 82038, 82039, 82040, 82041, 82042, 82043, 82044, 82045, 82046, 82047, 82048, 82049, 82050, 82051, 82052, 82053, 82054, 82055, 82056, 82057, 82058, 82059, 82060, 82061, 82062, 82063, 82064, 82065, 82066, 82067, 82068, 82069, 82070, 82071, 82072, 82073, 82074, 82075, 82076, 82077, 82078, 82079, 82080, 82081, 82082, 82083, 82084, 82085, 82086, 82087, 82088, 82089, 82090, 82091, 82092, 82093, 82094, 82095, 82096, 82097, 82098, 82099, 82100, 82101, 82102, 82103, 82104, 82105, 82106, 82107, 82108, 82109, 82110, 82111, 82112, 82113, 82265, 82266, 82267, 82268, 82269, 82270, 82271, 82272, 82273, 82274, 82275, 82276, 82277, 82278, 82279, 82280, 82281, 82282, 82283, 82284, 82285, 82286, 82287, 82288, 82289, 82290, 82291, 82292, 82293, 82294, 82295, 82296, 82297, 82298, 82299, 82300, 82301, 82302, 82303, 82304, 82305, 82306, 82307, 82308, 82309, 82310, 82311, 82312, 82313, 82314, 82315, 82316, 82317, 82318, 82319, 82320, 82321, 82322, 82323, 82324, 82325, 82326, 82327, 82328, 82329, 82330, 82331, 82332, 82333, 82334, 82335, 82336, 82337, 82338, 82339, 82340, 82341, 82342, 82343, 82344, 82345, 82346, 82347, 82348, 82349, 82350, 82351, 82352, 82353, 82354, 82355, 82356, 82357, 82358, 82359, 82360, 82361, 82362, 82363, 82364, 82365, 82366, 82367, 82368, 82369, 82521, 82522, 82523, 82524, 82525, 82526, 82527, 82528, 82529, 82530, 82531, 82532, 82533, 82534, 82535, 82536, 82537, 82538, 82539, 82540, 82541, 82542, 82543, 82544, 82545, 82546, 82547, 82548, 82549, 82550, 82551, 82556, 82557, 82558, 82559, 82560, 82561, 82562, 82563, 82564, 82565, 82566, 82567, 82568, 82569, 82570, 82571, 82572, 82573, 82574, 82575, 82576, 82577, 82578, 82579, 82580, 82581, 82582, 82583, 82584, 82585, 82586, 82587, 82588, 82589, 82590, 82591, 82592, 82593, 82594, 82595, 82596, 82597, 82598, 82599, 82600, 82601, 82602, 82603, 82604, 82605, 82606, 82607, 82608, 82609, 82610, 82611, 82612, 82613, 82614, 82615, 82616, 82617, 82618, 82619, 82620, 82621, 82622, 82623, 82624, 82779, 82780, 82781, 82782, 82783, 82784, 82785, 82786, 82787, 82788, 82789, 82790, 82791, 82792, 82793, 82794, 82795, 82796, 82797, 82798, 82799, 82800, 82801, 82802, 82803, 82804, 82805, 82818, 82819, 82820, 82821, 82822, 82823, 82824, 82825, 82826, 82827, 82828, 82829, 82830, 82831, 82832, 82833, 82834, 82835, 82836, 82837, 82838, 82839, 82840, 82841, 82842, 82843, 82844, 82845, 82846, 82847, 82848, 82849, 82850, 82851, 82852, 82853, 82854, 82855, 82856, 82857, 82858, 82859, 82860, 82861, 82862, 82863, 82864, 82865, 82866, 82867, 82868, 82869, 82870, 82871, 82872, 82873, 82874, 82875, 82876, 82877, 82878, 82879, 82880, 83038, 83039, 83040, 83041, 83042, 83043, 83044, 83045, 83046, 83047, 83048, 83049, 83050, 83051, 83052, 83053, 83054, 83055, 83056, 83057, 83058, 83059, 83080, 83081, 83082, 83083, 83084, 83085, 83086, 83087, 83088, 83089, 83090, 83091, 83092, 83093, 83094, 83095, 83096, 83097, 83098, 83099, 83100, 83101, 83102, 83103, 83104, 83105, 83106, 83107, 83108, 83109, 83110, 83111, 83112, 83113, 83114, 83115, 83116, 83117, 83118, 83119, 83120, 83121, 83122, 83123, 83124, 83125, 83126, 83127, 83128, 83129, 83130, 83131, 83132, 83133, 83134, 83135, 83136, 83297, 83298, 83299, 83300, 83301, 83302, 83303, 83304, 83305, 83306, 83307, 83308, 83309, 83310, 83311, 83312, 83313, 83342, 83343, 83344, 83345, 83346, 83347, 83348, 83349, 83350, 83351, 83352, 83353, 83354, 83355, 83356, 83357, 83358, 83359, 83360, 83361, 83362, 83363, 83364, 83365, 83366, 83367, 83368, 83369, 83370, 83371, 83372, 83373, 83374, 83375, 83376, 83377, 83378, 83379, 83380, 83381, 83382, 83383, 83384, 83385, 83386, 83387, 83388, 83389, 83390, 83391, 83555, 83556, 83557, 83558, 83559, 83560, 83561, 83562, 83563, 83564, 83565, 83566, 83567, 83604, 83605, 83606, 83607, 83608, 83609, 83610, 83611, 83612, 83613, 83614, 83615, 83616, 83617, 83618, 83619, 83620, 83621, 83622, 83623, 83624, 83625, 83626, 83627, 83628, 83629, 83630, 83631, 83632, 83633, 83634, 83635, 83636, 83637, 83638, 83639, 83640, 83641, 83642, 83643, 83644, 83645, 83646, 83647, 83814, 83815, 83816, 83817, 83818, 83819, 83820, 83821, 83866, 83867, 83868, 83869, 83870, 83871, 83872, 83873, 83874, 83875, 83876, 83877, 83878, 83879, 83880, 83881, 83882, 83883, 83884, 83885, 83886, 83887, 83888, 83889, 83890, 83891, 83892, 83893, 83894, 83895, 83896, 83897, 83898, 83899, 83900, 83901, 83902, 84073, 84074, 84075, 84128, 84129, 84130, 84131, 84132, 84133, 84134, 84135, 84136, 84137, 84138, 84139, 84140, 84141, 84142, 84143, 84144, 84145, 84146, 84147, 84148, 84149, 84150, 84151, 84152, 84153, 84154, 84155, 84156, 84157, 84158, 84390, 84391, 84392, 84393, 84394, 84395, 84396, 84397, 84398, 84399, 84400, 84401, 84402, 84403, 84404, 84405, 84406, 84407, 84408, 84409, 84410, 84411, 84412, 84413, 84414, 84652, 84653, 84654, 84655, 84656, 84657, 84658, 84659, 84660, 84661, 84662, 84663, 84664, 84665, 84666, 84667, 84668, 84669, 84918, 84919, 84920, 84921, 84922, 84923, 84924, 84925, 85239, 85240, 85241, 85242, 85243, 85244, 85245, 85246, 85247, 85248, 85476, 85477, 85478, 85479, 85480, 85481, 85482, 85483, 85484, 85485, 85486, 85487, 85488, 85489, 85490, 85491, 85492, 85493, 85494, 85495, 85496, 85497, 85498, 85499, 85500, 85501, 85502, 85503, 85504, 85714, 85715, 85716, 85717, 85718, 85719, 85720, 85721, 85722, 85723, 85724, 85725, 85726, 85727, 85728, 85729, 85730, 85731, 85732, 85733, 85734, 85735, 85736, 85737, 85738, 85739, 85740, 85741, 85742, 85743, 85744, 85745, 85746, 85747, 85748, 85749, 85750, 85751, 85752, 85753, 85754, 85755, 85756, 85757, 85758, 85759, 85760, 85960, 85961, 85962, 85963, 85964, 85965, 85966, 85967, 85968, 85969, 85970, 85971, 85972, 85973, 85974, 85975, 85976, 85977, 85978, 85979, 85980, 85981, 85982, 85983, 85984, 85985, 85986, 85987, 85988, 85989, 85990, 85991, 85992, 85993, 85994, 85995, 85996, 85997, 85998, 85999, 86000, 86001, 86002, 86003, 86004, 86005, 86006, 86007, 86008, 86009, 86010, 86011, 86012, 86013, 86014, 86015, 86016, 86216, 86217, 86218, 86219, 86220, 86221, 86222, 86223, 86224, 86225, 86226, 86227, 86228, 86229, 86230, 86231, 86232, 86233, 86234, 86235, 86236, 86237, 86238, 86239, 86240, 86241, 86242, 86243, 86244, 86245, 86246, 86247, 86248, 86249, 86250, 86251, 86252, 86253, 86254, 86255, 86256, 86257, 86258, 86259, 86260, 86261, 86262, 86263, 86264, 86265, 86266, 86267, 86268, 86269, 86270, 86271, 86272, 86471, 86472, 86473, 86474, 86475, 86476, 86477, 86478, 86479, 86480, 86481, 86482, 86483, 86484, 86485, 86486, 86487, 86488, 86489, 86490, 86491, 86492, 86493, 86494, 86495, 86496, 86497, 86498, 86499, 86500, 86501, 86502, 86503, 86504, 86505, 86506, 86507, 86508, 86509, 86510, 86511, 86512, 86513, 86514, 86515, 86516, 86517, 86518, 86519, 86520, 86521, 86522, 86523, 86524, 86525, 86526, 86527, 86528, 86727, 86728, 86729, 86730, 86731, 86732, 86733, 86734, 86735, 86736, 86737, 86738, 86739, 86740, 86741, 86742, 86743, 86744, 86745, 86746, 86747, 86748, 86749, 86750, 86751, 86752, 86753, 86754, 86755, 86756, 86757, 86758, 86759, 86760, 86761, 86762, 86763, 86764, 86765, 86766, 86767, 86768, 86769, 86770, 86771, 86772, 86773, 86774, 86775, 86776, 86777, 86778, 86779, 86780, 86781, 86782, 86783, 86784, 86983, 86984, 86985, 86986, 86987, 86988, 86989, 86990, 86991, 86992, 86993, 86994, 86995, 86996, 86997, 86998, 86999, 87000, 87001, 87002, 87003, 87004, 87005, 87006, 87007, 87008, 87009, 87010, 87011, 87012, 87013, 87014, 87015, 87016, 87017, 87018, 87019, 87020, 87021, 87022, 87023, 87024, 87025, 87026, 87027, 87028, 87029, 87030, 87031, 87032, 87033, 87034, 87035, 87036, 87037, 87038, 87039, 87040, 87238, 87239, 87240, 87241, 87242, 87243, 87244, 87245, 87246, 87247, 87248, 87249, 87250, 87251, 87252, 87253, 87254, 87255, 87256, 87257, 87258, 87259, 87260, 87261, 87262, 87263, 87264, 87265, 87266, 87267, 87268, 87269, 87270, 87271, 87272, 87273, 87274, 87275, 87276, 87277, 87278, 87279, 87280, 87281, 87282, 87283, 87284, 87285, 87286, 87287, 87288, 87289, 87290, 87291, 87292, 87293, 87294, 87295, 87296, 87494, 87495, 87496, 87497, 87498, 87499, 87500, 87501, 87502, 87503, 87504, 87505, 87506, 87507, 87508, 87509, 87510, 87511, 87512, 87513, 87514, 87515, 87516, 87517, 87518, 87519, 87520, 87521, 87522, 87523, 87524, 87525, 87526, 87527, 87528, 87529, 87530, 87531, 87532, 87533, 87534, 87535, 87536, 87537, 87538, 87539, 87540, 87541, 87542, 87543, 87544, 87545, 87546, 87547, 87548, 87549, 87550, 87551, 87552, 87750, 87751, 87752, 87753, 87754, 87755, 87756, 87757, 87758, 87759, 87760, 87761, 87762, 87763, 87764, 87765, 87766, 87767, 87768, 87769, 87770, 87771, 87772, 87773, 87774, 87775, 87776, 87777, 87778, 87779, 87780, 87781, 87782, 87783, 87784, 87785, 87786, 87787, 87788, 87789, 87790, 87791, 87792, 87793, 87794, 87795, 87796, 87797, 87798, 87799, 87800, 87801, 87802, 87803, 87804, 87805, 87806, 87807, 87808, 88005, 88006, 88007, 88008, 88009, 88010, 88011, 88012, 88013, 88014, 88015, 88016, 88017, 88018, 88019, 88020, 88021, 88022, 88023, 88024, 88025, 88026, 88027, 88028, 88029, 88030, 88031, 88032, 88033, 88034, 88035, 88036, 88037, 88038, 88039, 88040, 88041, 88042, 88043, 88044, 88045, 88046, 88047, 88048, 88049, 88050, 88051, 88052, 88053, 88054, 88055, 88056, 88057, 88058, 88059, 88060, 88061, 88062, 88063, 88064, 88261, 88262, 88263, 88264, 88265, 88266, 88267, 88268, 88269, 88270, 88271, 88272, 88273, 88274, 88275, 88276, 88277, 88278, 88279, 88280, 88281, 88282, 88283, 88284, 88285, 88286, 88287, 88288, 88289, 88290, 88291, 88292, 88293, 88294, 88295, 88296, 88297, 88298, 88299, 88300, 88301, 88302, 88303, 88304, 88305, 88306, 88307, 88308, 88309, 88310, 88311, 88312, 88313, 88314, 88315, 88316, 88317, 88318, 88319, 88320, 88517, 88518, 88519, 88520, 88521, 88522, 88523, 88524, 88525, 88526, 88527, 88528, 88529, 88530, 88531, 88532, 88533, 88534, 88535, 88536, 88537, 88538, 88539, 88540, 88541, 88542, 88543, 88544, 88545, 88546, 88547, 88548, 88549, 88550, 88551, 88552, 88553, 88554, 88555, 88556, 88557, 88558, 88559, 88560, 88561, 88562, 88563, 88564, 88565, 88566, 88567, 88568, 88569, 88570, 88571, 88572, 88573, 88574, 88575, 88576, 88772, 88773, 88774, 88775, 88776, 88777, 88778, 88779, 88780, 88781, 88782, 88783, 88784, 88785, 88786, 88787, 88788, 88789, 88790, 88791, 88792, 88793, 88794, 88795, 88796, 88797, 88798, 88799, 88800, 88801, 88802, 88803, 88804, 88805, 88806, 88807, 88808, 88809, 88810, 88811, 88812, 88813, 88814, 88815, 88816, 88817, 88818, 88819, 88820, 88821, 88822, 88823, 88824, 88825, 88826, 88827, 88828, 88829, 88830, 88831, 88832, 89028, 89029, 89030, 89031, 89032, 89033, 89034, 89035, 89036, 89037, 89038, 89039, 89040, 89041, 89042, 89043, 89044, 89045, 89046, 89047, 89048, 89049, 89050, 89051, 89052, 89053, 89054, 89055, 89056, 89057, 89058, 89059, 89060, 89061, 89062, 89063, 89064, 89065, 89066, 89067, 89068, 89069, 89070, 89071, 89072, 89073, 89074, 89075, 89076, 89077, 89078, 89079, 89080, 89283, 89284, 89285, 89286, 89287, 89288, 89289, 89290, 89291, 89292, 89293, 89294, 89295, 89296, 89297, 89298, 89299, 89300, 89301, 89302, 89303, 89304, 89305, 89306, 89307, 89308, 89309, 89310, 89311, 89312, 89313, 89314, 89315, 89316, 89317, 89318, 89319, 89320, 89321, 89322, 89539, 89540, 89541, 89542, 89543, 89544, 89545, 89546, 89547, 89548, 89549, 89550, 89551, 89552, 89553, 89554, 89555, 89556, 89557, 89558, 89559, 89560, 89561, 89562, 89563, 89564, 89565, 89566, 89567, 89568, 89569, 89570, 89667, 89668, 89669, 89670, 89671, 89672, 89673, 89674, 89675, 89676, 89795, 89796, 89797, 89798, 89799, 89800, 89801, 89802, 89803, 89804, 89805, 89806, 89807, 89808, 89809, 89810, 89811, 89812, 89813, 89814, 89815, 89816, 89817, 89818, 89819, 89820, 89821, 89822, 89823, 89824, 89923, 89924, 89925, 89926, 89927, 89928, 89929, 89930, 89931, 89932, 89933, 89934, 89935, 89936, 89937, 89938, 89939, 89940, 89941, 89942, 89943, 89944, 89945, 89946, 89947, 89948, 89949, 89950, 90050, 90051, 90052, 90053, 90054, 90055, 90056, 90057, 90058, 90059, 90060, 90061, 90062, 90063, 90064, 90065, 90066, 90067, 90068, 90069, 90070, 90071, 90072, 90073, 90074, 90075, 90076, 90077, 90078, 90179, 90180, 90181, 90182, 90183, 90184, 90185, 90186, 90187, 90188, 90189, 90190, 90191, 90192, 90193, 90194, 90195, 90196, 90197, 90198, 90199, 90200, 90201, 90202, 90203, 90204, 90205, 90206, 90207, 90208, 90209, 90210, 90211, 90212, 90213, 90214, 90215, 90306, 90307, 90308, 90309, 90310, 90311, 90312, 90313, 90314, 90315, 90316, 90317, 90318, 90319, 90320, 90321, 90322, 90323, 90324, 90325, 90326, 90327, 90328, 90329, 90330, 90331, 90332, 90434, 90435, 90436, 90437, 90438, 90439, 90440, 90441, 90442, 90443, 90444, 90445, 90446, 90447, 90448, 90449, 90450, 90451, 90452, 90453, 90454, 90455, 90456, 90457, 90458, 90459, 90460, 90461, 90462, 90463, 90464, 90465, 90466, 90467, 90468, 90469, 90470, 90471, 90562, 90563, 90564, 90565, 90566, 90567, 90568, 90569, 90570, 90571, 90572, 90573, 90574, 90575, 90690, 90691, 90692, 90693, 90694, 90695, 90696, 90697, 90698, 90699, 90700, 90701, 90702, 90703, 90704, 90705, 90706, 90707, 90708, 90709, 90710, 90711, 90712, 90713, 90714, 90715, 90716, 90717, 90718, 90719, 90720, 90721, 90722, 90723, 90724, 90725, 90726, 90727, 90817, 90818, 90819, 90820, 90821, 90822, 90823, 90824, 90825, 90946, 90947, 90948, 90949, 90950, 90951, 90952, 90953, 90954, 90955, 90956, 90957, 90958, 90959, 90960, 90961, 90962, 90963, 90964, 90965, 90966, 90967, 90968, 90969, 90970, 90971, 90972, 90973, 90974, 90975, 90976, 90977, 90978, 90979, 90980, 90981, 90982, 90983, 91073, 91074, 91075, 91202, 91203, 91204, 91205, 91206, 91207, 91208, 91209, 91210, 91211, 91212, 91213, 91214, 91215, 91216, 91217, 91218, 91219, 91220, 91221, 91222, 91223, 91224, 91225, 91226, 91227, 91228, 91229, 91230, 91231, 91232, 91233, 91234, 91235, 91236, 91237, 91238, 91239, 91458, 91459, 91460, 91461, 91462, 91463, 91464, 91465, 91466, 91467, 91468, 91469, 91470, 91471, 91472, 91473, 91474, 91475, 91476, 91477, 91478, 91479, 91480, 91481, 91482, 91483, 91484, 91485, 91486, 91487, 91488, 91489, 91490, 91491, 91492, 91493, 91494, 91495, 91714, 91715, 91716, 91717, 91718, 91719, 91720, 91721, 91722, 91723, 91724, 91725, 91726, 91727, 91728, 91729, 91730, 91731, 91732, 91733, 91734, 91735, 91736, 91737, 91738, 91739, 91740, 91741, 91742, 91743, 91744, 91745, 91746, 91747, 91748, 91749, 91750, 91751, 91969, 91970, 91971, 91972, 91973, 91974, 91975, 91976, 91977, 91978, 91979, 91980, 91981, 91982, 91983, 91984, 91985, 91986, 91987, 91988, 91989, 91990, 91991, 91992, 91993, 91994, 91995, 91996, 91997, 91998, 91999, 92000, 92001, 92002, 92003, 92004, 92005, 92006, 92007, 92225, 92226, 92227, 92228, 92229, 92230, 92231, 92232, 92233, 92234, 92235, 92236, 92237, 92238, 92239, 92240, 92241, 92242, 92243, 92244, 92245, 92246, 92247, 92248, 92249, 92250, 92251, 92252, 92253, 92254, 92255, 92256, 92257, 92258, 92259, 92260, 92261, 92262, 92263, 92481, 92482, 92483, 92484, 92485, 92486, 92487, 92488, 92489, 92490, 92491, 92492, 92493, 92494, 92495, 92496, 92497, 92498, 92499, 92500, 92501, 92502, 92503, 92504, 92505, 92506, 92507, 92508, 92509, 92510, 92511, 92512, 92513, 92514, 92515, 92516, 92517, 92518, 92519, 92737, 92738, 92739, 92740, 92741, 92742, 92743, 92744, 92745, 92746, 92747, 92748, 92749, 92750, 92751, 92752, 92753, 92754, 92755, 92756, 92757, 92758, 92759, 92760, 92761, 92762, 92763, 92764, 92765, 92766, 92767, 92768, 92769, 92770, 92771, 92772, 92773, 92774, 92775, 92993, 92994, 92995, 92996, 92997, 92998, 92999, 93000, 93001, 93002, 93003, 93004, 93005, 93006, 93007, 93008, 93009, 93010, 93011, 93012, 93013, 93014, 93015, 93016, 93017, 93018, 93019, 93020, 93021, 93022, 93023, 93024, 93025, 93026, 93027, 93028, 93029, 93030, 93031, 93248, 93249, 93250, 93251, 93252, 93253, 93254, 93255, 93256, 93257, 93258, 93259, 93260, 93261, 93262, 93263, 93264, 93265, 93266, 93267, 93268, 93269, 93270, 93271, 93272, 93273, 93274, 93275, 93276, 93277, 93278, 93279, 93280, 93281, 93282, 93283, 93284, 93285, 93286, 93287, 93504, 93505, 93506, 93507, 93508, 93509, 93510, 93511, 93512, 93513, 93514, 93515, 93516, 93517, 93518, 93519, 93520, 93521, 93522, 93523, 93524, 93525, 93526, 93527, 93528, 93529, 93530, 93531, 93532, 93533, 93534, 93535, 93536, 93537, 93538, 93539, 93540, 93541, 93542, 93543, 93760, 93761, 93762, 93763, 93764, 93765, 93766, 93767, 93768, 93769, 93770, 93771, 93772, 93773, 93774, 93775, 93776, 93777, 93778, 93779, 93780, 93781, 93782, 93783, 93784, 93785, 93786, 93787, 93788, 93789, 93790, 93791, 93792, 93793, 93794, 93795, 93796, 93797, 93798, 93799, 94026, 94027, 94028, 94029, 94030, 94031, 94032, 94033, 94034, 94035, 94036, 94037, 94038, 94039, 94040, 94041, 94042, 94043, 94044, 94045, 94046, 94047, 94048, 94049, 94050, 94051, 94052, 94053, 94054, 94055, 94302, 94303, 94304, 94305, 94306, 94307, 94308, 94309, 94310, 94311, 189792, 189793, 189794, 189795, 189796, 189797, 189798, 190034, 190035, 190036, 190037, 190038, 190039, 190040, 190041, 190042, 190043, 190044, 190045, 190046, 190047, 190048, 190049, 190050, 190051, 190052, 190053, 190054, 190283, 190284, 190285, 190286, 190287, 190288, 190289, 190290, 190291, 190292, 190293, 190294, 190295, 190296, 190297, 190298, 190299, 190300, 190301, 190302, 190303, 190304, 190305, 190306, 190307, 190308, 190309, 190310, 190539, 190540, 190541, 190542, 190543, 190544, 190545, 190546, 190547, 190548, 190549, 190550, 190551, 190552, 190553, 190554, 190555, 190556, 190557, 190558, 190559, 190560, 190561, 190562, 190563, 190564, 190565, 190566, 190795, 190796, 190797, 190798, 190799, 190800, 190801, 190802, 190803, 190804, 190805, 190806, 190807, 190808, 190809, 190810, 190811, 190812, 190813, 190814, 190815, 190816, 190817, 190818, 190819, 190820, 190821, 190822, 191051, 191052, 191053, 191054, 191055, 191056, 191057, 191058, 191059, 191060, 191061, 191062, 191063, 191064, 191065, 191066, 191067, 191068, 191069, 191070, 191071, 191072, 191073, 191074, 191075, 191076, 191077, 191078, 191307, 191308, 191309, 191310, 191311, 191312, 191313, 191314, 191315, 191316, 191317, 191318, 191319, 191320, 191321, 191322, 191323, 191324, 191325, 191326, 191327, 191328, 191329, 191330, 191331, 191332, 191333, 191334, 191563, 191564, 191565, 191566, 191567, 191568, 191569, 191570, 191571, 191572, 191573, 191574, 191575, 191576, 191577, 191578, 191579, 191580, 191581, 191582, 191583, 191584, 191585, 191586, 191587, 191588, 191589, 191590, 191819, 191820, 191821, 191822, 191823, 191824, 191825, 191826, 191827, 191828, 191829, 191830, 191831, 191832, 191833, 191834, 191835, 191836, 191837, 191838, 191839, 191840, 191841, 191842, 191843, 191844, 191845, 191846, 192075, 192076, 192077, 192078, 192079, 192080, 192081, 192082, 192083, 192084, 192085, 192086, 192087, 192088, 192089, 192090, 192091, 192092, 192093, 192094, 192095, 192096, 192097, 192098, 192099, 192100, 192101, 192102, 192331, 192332, 192333, 192334, 192335, 192336, 192337, 192338, 192339, 192340, 192341, 192342, 192343, 192344, 192345, 192346, 192347, 192348, 192349, 192350, 192351, 192352, 192353, 192354, 192355, 192356, 192357, 192358, 192587, 192588, 192589, 192590, 192591, 192592, 192593, 192594, 192595, 192596, 192597, 192598, 192599, 192600, 192601, 192602, 192603, 192604, 192605, 192606, 192607, 192608, 192609, 192610, 192611, 192612, 192613, 192614, 192843, 192844, 192845, 192846, 192847, 192848, 192849, 192850, 192851, 192852, 192853, 192854, 192855, 192856, 192857, 192858, 192859, 192860, 192861, 192862, 192863, 192864, 192865, 193099, 193100, 193101, 193102, 193103, 193104, 193105, 193106, 193107, 193108, 193109, 193110, 193111, 193112, 193355, 193356, 193357, 193358, 193359]\n",
            "The dtype of the element from the converted resutl:  <class 'int'>\n"
          ],
          "name": "stdout"
        }
      ]
    },
    {
      "cell_type": "markdown",
      "metadata": {
        "id": "6BwmgAtOx0dG",
        "colab_type": "text"
      },
      "source": [
        "*# create a column called completePixels, the complete pixels are calculated by applying the encodedpixels_to_completepixels against each record of x_train_unique* \n"
      ]
    },
    {
      "cell_type": "code",
      "metadata": {
        "id": "_oUYBvV2W_bH",
        "colab_type": "code",
        "outputId": "45a95714-0772-40ab-ef90-5ad7faf96885",
        "colab": {
          "base_uri": "https://localhost:8080/",
          "height": 196
        }
      },
      "source": [
        "# create a column called completePixels, the complete pixels are calculated by applying the encodedpixels_to_completepixels against each record of x_train_unique \n",
        "x_train_unique['CompletePixels']=x_train_unique.apply(lambda row: encodedpixels_to_completepixels(row),axis=1)\n",
        "x_train_unique.head()"
      ],
      "execution_count": 24,
      "outputs": [
        {
          "output_type": "execute_result",
          "data": {
            "text/html": [
              "<div>\n",
              "<style scoped>\n",
              "    .dataframe tbody tr th:only-of-type {\n",
              "        vertical-align: middle;\n",
              "    }\n",
              "\n",
              "    .dataframe tbody tr th {\n",
              "        vertical-align: top;\n",
              "    }\n",
              "\n",
              "    .dataframe thead th {\n",
              "        text-align: right;\n",
              "    }\n",
              "</style>\n",
              "<table border=\"1\" class=\"dataframe\">\n",
              "  <thead>\n",
              "    <tr style=\"text-align: right;\">\n",
              "      <th></th>\n",
              "      <th>ImageId</th>\n",
              "      <th>ClassId</th>\n",
              "      <th>EncodedPixels</th>\n",
              "      <th>Is_defected</th>\n",
              "      <th>CompletePixels</th>\n",
              "    </tr>\n",
              "  </thead>\n",
              "  <tbody>\n",
              "    <tr>\n",
              "      <th>0</th>\n",
              "      <td>0002cc93b.jpg</td>\n",
              "      <td>1</td>\n",
              "      <td>29102 12 29346 24 29602 24 29858 24 30114 24 3...</td>\n",
              "      <td>True</td>\n",
              "      <td>[29102, 29103, 29104, 29105, 29106, 29107, 291...</td>\n",
              "    </tr>\n",
              "    <tr>\n",
              "      <th>1</th>\n",
              "      <td>00031f466.jpg</td>\n",
              "      <td>0</td>\n",
              "      <td>NaN</td>\n",
              "      <td>False</td>\n",
              "      <td>None</td>\n",
              "    </tr>\n",
              "    <tr>\n",
              "      <th>2</th>\n",
              "      <td>000418bfc.jpg</td>\n",
              "      <td>0</td>\n",
              "      <td>NaN</td>\n",
              "      <td>False</td>\n",
              "      <td>None</td>\n",
              "    </tr>\n",
              "    <tr>\n",
              "      <th>3</th>\n",
              "      <td>000789191.jpg</td>\n",
              "      <td>0</td>\n",
              "      <td>NaN</td>\n",
              "      <td>False</td>\n",
              "      <td>None</td>\n",
              "    </tr>\n",
              "    <tr>\n",
              "      <th>4</th>\n",
              "      <td>0007a71bf.jpg</td>\n",
              "      <td>3</td>\n",
              "      <td>18661 28 18863 82 19091 110 19347 110 19603 11...</td>\n",
              "      <td>True</td>\n",
              "      <td>[18661, 18662, 18663, 18664, 18665, 18666, 186...</td>\n",
              "    </tr>\n",
              "  </tbody>\n",
              "</table>\n",
              "</div>"
            ],
            "text/plain": [
              "         ImageId  ...                                     CompletePixels\n",
              "0  0002cc93b.jpg  ...  [29102, 29103, 29104, 29105, 29106, 29107, 291...\n",
              "1  00031f466.jpg  ...                                               None\n",
              "2  000418bfc.jpg  ...                                               None\n",
              "3  000789191.jpg  ...                                               None\n",
              "4  0007a71bf.jpg  ...  [18661, 18662, 18663, 18664, 18665, 18666, 186...\n",
              "\n",
              "[5 rows x 5 columns]"
            ]
          },
          "metadata": {
            "tags": []
          },
          "execution_count": 24
        }
      ]
    },
    {
      "cell_type": "code",
      "metadata": {
        "id": "n0wdOAWcdgqO",
        "colab_type": "code",
        "outputId": "fd2b6f59-5af4-4d51-a388-f171f2f0033d",
        "colab": {
          "base_uri": "https://localhost:8080/",
          "height": 196
        }
      },
      "source": [
        "# Drop the encodedPixels and keep the complete pixels instead \n",
        "x_train_completepixels = x_train_unique.drop(columns=['EncodedPixels'])\n",
        "x_train_completepixels.head()"
      ],
      "execution_count": 25,
      "outputs": [
        {
          "output_type": "execute_result",
          "data": {
            "text/html": [
              "<div>\n",
              "<style scoped>\n",
              "    .dataframe tbody tr th:only-of-type {\n",
              "        vertical-align: middle;\n",
              "    }\n",
              "\n",
              "    .dataframe tbody tr th {\n",
              "        vertical-align: top;\n",
              "    }\n",
              "\n",
              "    .dataframe thead th {\n",
              "        text-align: right;\n",
              "    }\n",
              "</style>\n",
              "<table border=\"1\" class=\"dataframe\">\n",
              "  <thead>\n",
              "    <tr style=\"text-align: right;\">\n",
              "      <th></th>\n",
              "      <th>ImageId</th>\n",
              "      <th>ClassId</th>\n",
              "      <th>Is_defected</th>\n",
              "      <th>CompletePixels</th>\n",
              "    </tr>\n",
              "  </thead>\n",
              "  <tbody>\n",
              "    <tr>\n",
              "      <th>0</th>\n",
              "      <td>0002cc93b.jpg</td>\n",
              "      <td>1</td>\n",
              "      <td>True</td>\n",
              "      <td>[29102, 29103, 29104, 29105, 29106, 29107, 291...</td>\n",
              "    </tr>\n",
              "    <tr>\n",
              "      <th>1</th>\n",
              "      <td>00031f466.jpg</td>\n",
              "      <td>0</td>\n",
              "      <td>False</td>\n",
              "      <td>None</td>\n",
              "    </tr>\n",
              "    <tr>\n",
              "      <th>2</th>\n",
              "      <td>000418bfc.jpg</td>\n",
              "      <td>0</td>\n",
              "      <td>False</td>\n",
              "      <td>None</td>\n",
              "    </tr>\n",
              "    <tr>\n",
              "      <th>3</th>\n",
              "      <td>000789191.jpg</td>\n",
              "      <td>0</td>\n",
              "      <td>False</td>\n",
              "      <td>None</td>\n",
              "    </tr>\n",
              "    <tr>\n",
              "      <th>4</th>\n",
              "      <td>0007a71bf.jpg</td>\n",
              "      <td>3</td>\n",
              "      <td>True</td>\n",
              "      <td>[18661, 18662, 18663, 18664, 18665, 18666, 186...</td>\n",
              "    </tr>\n",
              "  </tbody>\n",
              "</table>\n",
              "</div>"
            ],
            "text/plain": [
              "         ImageId  ...                                     CompletePixels\n",
              "0  0002cc93b.jpg  ...  [29102, 29103, 29104, 29105, 29106, 29107, 291...\n",
              "1  00031f466.jpg  ...                                               None\n",
              "2  000418bfc.jpg  ...                                               None\n",
              "3  000789191.jpg  ...                                               None\n",
              "4  0007a71bf.jpg  ...  [18661, 18662, 18663, 18664, 18665, 18666, 186...\n",
              "\n",
              "[5 rows x 4 columns]"
            ]
          },
          "metadata": {
            "tags": []
          },
          "execution_count": 25
        }
      ]
    },
    {
      "cell_type": "code",
      "metadata": {
        "id": "nq19Dz7wAGFj",
        "colab_type": "code",
        "outputId": "0cf4bd27-e6a5-4c24-cfea-8faefae72751",
        "colab": {
          "base_uri": "https://localhost:8080/",
          "height": 67
        }
      },
      "source": [
        "print (type(x_train_completepixels['CompletePixels'][0]))\n",
        "print (type(x_train_completepixels['CompletePixels'][0][0]))\n",
        "x_train_completepixels['CompletePixels'][0][0]"
      ],
      "execution_count": 26,
      "outputs": [
        {
          "output_type": "stream",
          "text": [
            "<class 'list'>\n",
            "<class 'int'>\n"
          ],
          "name": "stdout"
        },
        {
          "output_type": "execute_result",
          "data": {
            "text/plain": [
              "29102"
            ]
          },
          "metadata": {
            "tags": []
          },
          "execution_count": 26
        }
      ]
    },
    {
      "cell_type": "code",
      "metadata": {
        "id": "5HQ06kzAqV7Q",
        "colab_type": "code",
        "colab": {}
      },
      "source": [
        "#del x_train_unique"
      ],
      "execution_count": 0,
      "outputs": []
    },
    {
      "cell_type": "markdown",
      "metadata": {
        "id": "nQmgTiiW7I9t",
        "colab_type": "text"
      },
      "source": [
        "# 9. Create directoris for train images, prepare to catogorize imanges based on the ClassId. "
      ]
    },
    {
      "cell_type": "code",
      "metadata": {
        "id": "7wYzMHI0Fu2t",
        "colab_type": "code",
        "colab": {}
      },
      "source": [
        "image_path = os.getcwd()"
      ],
      "execution_count": 0,
      "outputs": []
    },
    {
      "cell_type": "markdown",
      "metadata": {
        "id": "GmRacQSe8aXQ",
        "colab_type": "text"
      },
      "source": [
        "*# Split the training set images into two different sets: one for training, the other for validation*  \n",
        "The trainset size is 80%. The validationset size is 20%. "
      ]
    },
    {
      "cell_type": "code",
      "metadata": {
        "id": "Ivvg0ogx_4i3",
        "colab_type": "code",
        "outputId": "00064edf-6c09-4d14-ef36-33de0ca08efa",
        "colab": {
          "base_uri": "https://localhost:8080/",
          "height": 33
        }
      },
      "source": [
        "from sklearn.model_selection import train_test_split\n",
        "x_train_ready, x_validation= train_test_split(x_train_completepixels, test_size=0.2,random_state=42)\n",
        "print(len(x_train_ready),len(x_validation))"
      ],
      "execution_count": 28,
      "outputs": [
        {
          "output_type": "stream",
          "text": [
            "10397 2600\n"
          ],
          "name": "stdout"
        }
      ]
    },
    {
      "cell_type": "code",
      "metadata": {
        "id": "Fj5ve_OLEhfh",
        "colab_type": "code",
        "colab": {
          "base_uri": "https://localhost:8080/",
          "height": 196
        },
        "outputId": "747dfd73-c7b5-4be1-ab95-e969c47c74ff"
      },
      "source": [
        "x_train_ready.head()"
      ],
      "execution_count": 29,
      "outputs": [
        {
          "output_type": "execute_result",
          "data": {
            "text/html": [
              "<div>\n",
              "<style scoped>\n",
              "    .dataframe tbody tr th:only-of-type {\n",
              "        vertical-align: middle;\n",
              "    }\n",
              "\n",
              "    .dataframe tbody tr th {\n",
              "        vertical-align: top;\n",
              "    }\n",
              "\n",
              "    .dataframe thead th {\n",
              "        text-align: right;\n",
              "    }\n",
              "</style>\n",
              "<table border=\"1\" class=\"dataframe\">\n",
              "  <thead>\n",
              "    <tr style=\"text-align: right;\">\n",
              "      <th></th>\n",
              "      <th>ImageId</th>\n",
              "      <th>ClassId</th>\n",
              "      <th>Is_defected</th>\n",
              "      <th>CompletePixels</th>\n",
              "    </tr>\n",
              "  </thead>\n",
              "  <tbody>\n",
              "    <tr>\n",
              "      <th>1576</th>\n",
              "      <td>1e9aec741.jpg</td>\n",
              "      <td>3</td>\n",
              "      <td>True</td>\n",
              "      <td>[141018, 141019, 141020, 141021, 141022, 14102...</td>\n",
              "    </tr>\n",
              "    <tr>\n",
              "      <th>11830</th>\n",
              "      <td>e869118bb.jpg</td>\n",
              "      <td>3</td>\n",
              "      <td>True</td>\n",
              "      <td>[154113, 154114, 154115, 154116, 154117, 15411...</td>\n",
              "    </tr>\n",
              "    <tr>\n",
              "      <th>6064</th>\n",
              "      <td>76a7e1815.jpg</td>\n",
              "      <td>3</td>\n",
              "      <td>True</td>\n",
              "      <td>[160790, 160791, 160792, 160793, 161045, 16104...</td>\n",
              "    </tr>\n",
              "    <tr>\n",
              "      <th>12217</th>\n",
              "      <td>f00c6d4b2.jpg</td>\n",
              "      <td>0</td>\n",
              "      <td>False</td>\n",
              "      <td>None</td>\n",
              "    </tr>\n",
              "    <tr>\n",
              "      <th>3881</th>\n",
              "      <td>4ca64717c.jpg</td>\n",
              "      <td>3</td>\n",
              "      <td>True</td>\n",
              "      <td>[24767, 24768, 25021, 25022, 25023, 25024, 250...</td>\n",
              "    </tr>\n",
              "  </tbody>\n",
              "</table>\n",
              "</div>"
            ],
            "text/plain": [
              "             ImageId  ...                                     CompletePixels\n",
              "1576   1e9aec741.jpg  ...  [141018, 141019, 141020, 141021, 141022, 14102...\n",
              "11830  e869118bb.jpg  ...  [154113, 154114, 154115, 154116, 154117, 15411...\n",
              "6064   76a7e1815.jpg  ...  [160790, 160791, 160792, 160793, 161045, 16104...\n",
              "12217  f00c6d4b2.jpg  ...                                               None\n",
              "3881   4ca64717c.jpg  ...  [24767, 24768, 25021, 25022, 25023, 25024, 250...\n",
              "\n",
              "[5 rows x 4 columns]"
            ]
          },
          "metadata": {
            "tags": []
          },
          "execution_count": 29
        }
      ]
    },
    {
      "cell_type": "code",
      "metadata": {
        "id": "-XlpNF7FEvIe",
        "colab_type": "code",
        "colab": {
          "base_uri": "https://localhost:8080/",
          "height": 196
        },
        "outputId": "0e10489f-e25f-4bee-abc3-49cd0654f4be"
      },
      "source": [
        "x_validation.head()"
      ],
      "execution_count": 30,
      "outputs": [
        {
          "output_type": "execute_result",
          "data": {
            "text/html": [
              "<div>\n",
              "<style scoped>\n",
              "    .dataframe tbody tr th:only-of-type {\n",
              "        vertical-align: middle;\n",
              "    }\n",
              "\n",
              "    .dataframe tbody tr th {\n",
              "        vertical-align: top;\n",
              "    }\n",
              "\n",
              "    .dataframe thead th {\n",
              "        text-align: right;\n",
              "    }\n",
              "</style>\n",
              "<table border=\"1\" class=\"dataframe\">\n",
              "  <thead>\n",
              "    <tr style=\"text-align: right;\">\n",
              "      <th></th>\n",
              "      <th>ImageId</th>\n",
              "      <th>ClassId</th>\n",
              "      <th>Is_defected</th>\n",
              "      <th>CompletePixels</th>\n",
              "    </tr>\n",
              "  </thead>\n",
              "  <tbody>\n",
              "    <tr>\n",
              "      <th>10377</th>\n",
              "      <td>cbe5423d0.jpg</td>\n",
              "      <td>0</td>\n",
              "      <td>False</td>\n",
              "      <td>None</td>\n",
              "    </tr>\n",
              "    <tr>\n",
              "      <th>11971</th>\n",
              "      <td>eb1f38f03.jpg</td>\n",
              "      <td>3</td>\n",
              "      <td>True</td>\n",
              "      <td>[51671, 51672, 51673, 51674, 51923, 51924, 519...</td>\n",
              "    </tr>\n",
              "    <tr>\n",
              "      <th>5927</th>\n",
              "      <td>7435bcc25.jpg</td>\n",
              "      <td>3</td>\n",
              "      <td>True</td>\n",
              "      <td>[6081, 6082, 6083, 6084, 6085, 6086, 6087, 608...</td>\n",
              "    </tr>\n",
              "    <tr>\n",
              "      <th>10097</th>\n",
              "      <td>c646462b5.jpg</td>\n",
              "      <td>3</td>\n",
              "      <td>True</td>\n",
              "      <td>[236442, 236443, 236444, 236445, 236446, 23644...</td>\n",
              "    </tr>\n",
              "    <tr>\n",
              "      <th>5013</th>\n",
              "      <td>62e5f5e95.jpg</td>\n",
              "      <td>0</td>\n",
              "      <td>False</td>\n",
              "      <td>None</td>\n",
              "    </tr>\n",
              "  </tbody>\n",
              "</table>\n",
              "</div>"
            ],
            "text/plain": [
              "             ImageId  ...                                     CompletePixels\n",
              "10377  cbe5423d0.jpg  ...                                               None\n",
              "11971  eb1f38f03.jpg  ...  [51671, 51672, 51673, 51674, 51923, 51924, 519...\n",
              "5927   7435bcc25.jpg  ...  [6081, 6082, 6083, 6084, 6085, 6086, 6087, 608...\n",
              "10097  c646462b5.jpg  ...  [236442, 236443, 236444, 236445, 236446, 23644...\n",
              "5013   62e5f5e95.jpg  ...                                               None\n",
              "\n",
              "[5 rows x 4 columns]"
            ]
          },
          "metadata": {
            "tags": []
          },
          "execution_count": 30
        }
      ]
    },
    {
      "cell_type": "code",
      "metadata": {
        "id": "c8uqWpStKwSG",
        "colab_type": "code",
        "colab": {}
      },
      "source": [
        "# Save the x_train_ready dataframe(80% of the total train images) as csv file for the future use  \n",
        "x_train_ready.to_csv(image_path+'/80%_train_images'+'/80%_train_images_completePixels.csv')"
      ],
      "execution_count": 0,
      "outputs": []
    },
    {
      "cell_type": "code",
      "metadata": {
        "id": "ezdznflr5bcv",
        "colab_type": "code",
        "colab": {
          "base_uri": "https://localhost:8080/",
          "height": 150
        },
        "outputId": "80471b1a-4954-44a1-edb5-9325a7ab5c59"
      },
      "source": [
        "# check if a file or a directory exists, if not then create folders for each class\n",
        "from os import path\n",
        "\n",
        "if path.exists(image_path+'/80%_train_images'+'/Class_0'):\n",
        "  print (image_path+'/80%_train_images'+'/Class_0 is there')\n",
        "else:\n",
        "  os.mkdir(image_path+'/80%_train_images'+'/Class_0')\n",
        "  \n",
        "if path.exists(image_path+'/80%_train_images'+'/Class_1'):\n",
        "  print (image_path+'/80%_train_images'+'/Class_1 is there')\n",
        "else:\n",
        "  os.mkdir(image_path+'/80%_train_images'+'/Class_1')\n",
        "  \n",
        "if path.exists(image_path+'/80%_train_images'+'/Class_2'):\n",
        "  print (image_path+'/80%_train_images'+'/Class_2 is there')\n",
        "else:\n",
        "  os.mkdir(image_path+'/80%_train_images'+'/Class_2')\n",
        "  \n",
        "if path.exists(image_path+'/80%_train_images'+'/Class_3'):\n",
        "  print (image_path+'/80%_train_images'+'/Class_3 is there')\n",
        "else:\n",
        "  os.mkdir(image_path+'/80%_train_images'+'/Class_3')\n",
        "  \n",
        "if path.exists(image_path+'/80%_train_images'+'/Class_4'):\n",
        "  print (image_path+'/80%_train_images'+'/Class_4 is there')\n",
        "else:\n",
        "  os.mkdir(image_path+'/80%_train_images'+'/Class_4')\n",
        "\n",
        "# To confirm the five different folders created for 5 classes of images \n",
        "os.listdir(os.getcwd()+'/80%_train_images')"
      ],
      "execution_count": 33,
      "outputs": [
        {
          "output_type": "execute_result",
          "data": {
            "text/plain": [
              "['customer_1.tfrecord',\n",
              " '80%_train_images_label_map.json',\n",
              " '80%_train_images_completePixels.csv',\n",
              " 'Class_0',\n",
              " 'Class_1',\n",
              " 'Class_2',\n",
              " 'Class_3',\n",
              " 'Class_4']"
            ]
          },
          "metadata": {
            "tags": []
          },
          "execution_count": 33
        }
      ]
    },
    {
      "cell_type": "code",
      "metadata": {
        "id": "dT1hqW3oFTGm",
        "colab_type": "code",
        "colab": {}
      },
      "source": [
        "# make classes folder for validation images\n",
        "from os import path\n",
        "\n",
        "if path.exists(image_path+'/validation_images'+'/Class_0'):\n",
        "  print (image_path+'/validation_images'+'/Class_0 is there')\n",
        "else:\n",
        "  os.mkdir(image_path+'/validation_images'+'/Class_0')\n",
        "  \n",
        "if path.exists(image_path+'/validation_images'+'/Class_1'):\n",
        "  print (image_path+'/validation_images'+'/Class_1 is there')\n",
        "else:\n",
        "  os.mkdir(image_path+'/validation_images'+'/Class_1')\n",
        "  \n",
        "if path.exists(image_path+'/validation_images'+'/Class_2'):\n",
        "  print (image_path+'/validation_images'+'/Class_2 is there')\n",
        "else:\n",
        "  os.mkdir(image_path+'/validation_images'+'/Class_2')\n",
        "  \n",
        "if path.exists(image_path+'/validation_images'+'/Class_3'):\n",
        "  print (image_path+'/validation_images'+'/Class_3 is there')\n",
        "else:\n",
        "  os.mkdir(image_path+'/validation_images'+'/Class_3')\n",
        "  \n",
        "if path.exists(image_path+'/validation_images'+'/Class_4'):\n",
        "  print (image_path+'/validation_images'+'/Class_4 is there')\n",
        "else:\n",
        "  os.mkdir(image_path+'/validation_images'+'/Class_4')"
      ],
      "execution_count": 0,
      "outputs": []
    },
    {
      "cell_type": "code",
      "metadata": {
        "id": "Vux-oxaHFVR5",
        "colab_type": "code",
        "colab": {}
      },
      "source": [
        "# Save the x_validation dataframe(80% of the total train images) as csv file for the future use  \n",
        "x_validation.to_csv(image_path+'/validation_images'+'/validation_images_completePixels.csv')"
      ],
      "execution_count": 0,
      "outputs": []
    },
    {
      "cell_type": "markdown",
      "metadata": {
        "id": "OjK1iLKi_das",
        "colab_type": "text"
      },
      "source": [
        "*The following is to define a function to parse the images from x_train_ready CSV*\n",
        "\n",
        "\n",
        "1.   If the classId is 0, then means no defect, just copy the image to the class_0 folder \n",
        "2.   If the classId is not 0, then based on the classId of the image, paint the color on the defected mark. **class 1, class 2, class 3 and class 4, RGB color code is [[255,51,51],[255,255,51],[51,255,51],[51,153,255]].**\n",
        "Then copy the painted images to the corresponding image class folder. \n",
        "\n",
        "\n",
        "\n",
        "\n",
        "\n",
        "\n"
      ]
    },
    {
      "cell_type": "code",
      "metadata": {
        "id": "-a91IsRkyhZ8",
        "colab_type": "code",
        "colab": {}
      },
      "source": [
        "'''\n",
        "# Just in case need to import the two csv files,for any future use of the 80% train imanges and 20% validation images \n",
        "import pandas as pd \n",
        "\n",
        "x_train_ready=pd.read_csv(image_path+'/80%_train_images'+'/80%_train_images_completePixels.csv')\n",
        "x_validation=pd.read_csv(image_path+'/validation_images'+'/validation_images_completePixels.csv')"
      ],
      "execution_count": 0,
      "outputs": []
    },
    {
      "cell_type": "code",
      "metadata": {
        "id": "UlH3BrH_OqeR",
        "colab_type": "code",
        "colab": {}
      },
      "source": [
        "import matplotlib.pyplot as plt \n",
        "import matplotlib.image as mpimg\n",
        "import os \n",
        "from shutil import copyfile\n",
        "import imageio\n",
        "import numpy as np\n",
        "\n",
        "image_path = os.getcwd()\n",
        "\n",
        "def pass_images_to_classes(row):\n",
        "  imageId=row['ImageId']\n",
        "  classId=row['ClassId']\n",
        "  isDefected = row['Is_defected']\n",
        "  colorline = [[255,51,51],[255,255,51],[51,255,51],[51,153,255]]\n",
        "  if isDefected == False:\n",
        "    copyfile(image_path+'/train_images/'+imageId,image_path+'/80%_train_images'+'/Class_'+str(classId)+'/'+imageId)\n",
        "  if isDefected==True:\n",
        "    imgarray=mpimg.imread(image_path+'/train_images/'+imageId)\n",
        "    img_2d=imgarray.reshape(256*1600,3,order='F')\n",
        "    tmp_copy=np.copy(img_2d)\n",
        "    row['CompletePixels']=[x-1 for x in row['CompletePixels']]\n",
        "    tmp_copy[row['CompletePixels']]=colorline[classId-1]\n",
        "    tmp_copy=tmp_copy.reshape(256,1600,3,order='F')\n",
        "    imageio.imwrite(image_path+'/80%_train_images'+'/Class_'+str(classId)+'/'+imageId, tmp_copy)\n",
        "    del tmp_copy\n",
        "    del imgarray\n",
        "    del img_2d"
      ],
      "execution_count": 0,
      "outputs": []
    },
    {
      "cell_type": "markdown",
      "metadata": {
        "id": "rBWWxfbp9uhL",
        "colab_type": "text"
      },
      "source": [
        "**Function with lambda: apply the pass_images_classes(defined above) against each record of the x_train_ready csv(80% training images).**\n",
        "**The pre-processing images are pro-processed with the defect marks with different colors based on the defect-class-IDs.**"
      ]
    },
    {
      "cell_type": "code",
      "metadata": {
        "id": "MpwJQjnZRnIu",
        "colab_type": "code",
        "colab": {
          "base_uri": "https://localhost:8080/",
          "height": 217
        },
        "outputId": "4976fb7c-6b93-46ea-ea7d-2cecf0d57bb2"
      },
      "source": [
        "x_train_ready.apply(lambda row:pass_images_to_classes(row),axis=1)"
      ],
      "execution_count": 34,
      "outputs": [
        {
          "output_type": "execute_result",
          "data": {
            "text/plain": [
              "1576     None\n",
              "11830    None\n",
              "6064     None\n",
              "12217    None\n",
              "3881     None\n",
              "         ... \n",
              "11964    None\n",
              "5191     None\n",
              "5390     None\n",
              "860      None\n",
              "7270     None\n",
              "Length: 10397, dtype: object"
            ]
          },
          "metadata": {
            "tags": []
          },
          "execution_count": 34
        }
      ]
    },
    {
      "cell_type": "markdown",
      "metadata": {
        "id": "OzIhuB-v9aeA",
        "colab_type": "text"
      },
      "source": [
        "*A quick check to confirm the total images is equal to the total records from x_train_ready CSV*"
      ]
    },
    {
      "cell_type": "code",
      "metadata": {
        "id": "dCMluxgTT2YZ",
        "colab_type": "code",
        "outputId": "cfcccca7-5106-427c-bde5-7cb7835f05f4",
        "colab": {
          "base_uri": "https://localhost:8080/",
          "height": 134
        }
      },
      "source": [
        "image_path=os.getcwd()+'/80%_train_images'\n",
        "print (\"class_0 total:\",len(os.listdir(image_path+'/Class_0')))\n",
        "print (\"class_1 total:\",len(os.listdir(image_path+'/Class_1')))\n",
        "print (\"class_2 total:\",len(os.listdir(image_path+'/Class_2')))\n",
        "print (\"class_3 total:\",len(os.listdir(image_path+'/Class_3')))\n",
        "print (\"class_4 total:\",len(os.listdir(image_path+'/Class_4')))\n",
        "print (\"class_0+class_1+class_2+class_3+class_4:\",len(os.listdir(image_path+'/Class_0'))+len(os.listdir(image_path+'/Class_1'))+len(os.listdir(image_path+'/Class_2'))+len(os.listdir(image_path+'/Class_3'))+len(os.listdir(image_path+'/Class_4')))\n",
        "print ('The total records of x_train_ready',len(x_train_ready))"
      ],
      "execution_count": 49,
      "outputs": [
        {
          "output_type": "stream",
          "text": [
            "class_0 total: 4669\n",
            "class_1 total: 727\n",
            "class_2 total: 187\n",
            "class_3 total: 4163\n",
            "class_4 total: 651\n",
            "class_0+class_1+class_2+class_3+class_4: 10397\n",
            "The total records of x_train_ready 10397\n"
          ],
          "name": "stdout"
        }
      ]
    },
    {
      "cell_type": "markdown",
      "metadata": {
        "id": "i_uLPMzd-2kI",
        "colab_type": "text"
      },
      "source": [
        "*The following is to define a function to parse the images of x_validation CSV*\n",
        "\n",
        "\n",
        "1.   If the classId is 0, then means no defect, just copy the image to the class_0 folder \n",
        "2.   If the classId is not 0, then based on the classId of the image, paint the color on the defected mark. **class 1, class 2, class 3 and class 4, RGB color code is [[255,51,51],[255,255,51],[51,255,51],[51,153,255]].**\n",
        "Then copy the painted images to the corresponding image class folder. "
      ]
    },
    {
      "cell_type": "code",
      "metadata": {
        "id": "WHmOnj1wkSn6",
        "colab_type": "code",
        "colab": {}
      },
      "source": [
        "# category each class of images for validation images \n",
        "def pass_validation_images_to_classes(row):\n",
        "  imageId=row['ImageId']\n",
        "  classId=row['ClassId']\n",
        "  isDefected = row['Is_defected']\n",
        "  colorline = [[255,51,51],[255,255,51],[51,255,51],[51,153,255]]\n",
        "  if isDefected == False:\n",
        "    copyfile(image_path+'/train_images/'+imageId,image_path+'/validation_images'+'/Class_'+str(classId)+'/'+imageId)\n",
        "  if isDefected==True:\n",
        "    imgarray=mpimg.imread(image_path+'/train_images/'+imageId)\n",
        "    img_2d=imgarray.reshape(256*1600,3,order='F')\n",
        "    tmp_copy=np.copy(img_2d)\n",
        "    row['CompletePixels']=[x-1 for x in row['CompletePixels']]\n",
        "    tmp_copy[row['CompletePixels']]=colorline[classId-1]\n",
        "    tmp_copy=tmp_copy.reshape(256,1600,3,order='F')\n",
        "    imageio.imwrite(image_path+'/validation_images'+'/Class_'+str(classId)+'/'+imageId, tmp_copy)\n",
        "    del tmp_copy\n",
        "    del imgarray\n",
        "    del img_2d"
      ],
      "execution_count": 0,
      "outputs": []
    },
    {
      "cell_type": "markdown",
      "metadata": {
        "id": "qhgvmkrZ_JJl",
        "colab_type": "text"
      },
      "source": [
        "**Function with lambda: apply the pass_validation_images_classes(defined above) against each record of the x_validation csv(80% training images).**\n",
        "**The pre-processing images are pro-processed with the defect marks with different colors based on the defect-class-IDs.**"
      ]
    },
    {
      "cell_type": "code",
      "metadata": {
        "id": "KDDExLb7kLM-",
        "colab_type": "code",
        "colab": {
          "base_uri": "https://localhost:8080/",
          "height": 53
        },
        "outputId": "463f4ef0-18c9-4b2f-b907-9f7dc11afc2b"
      },
      "source": [
        "# save each class of images to the folder. \n",
        "x_validation.apply(lambda row: pass_validation_images_to_classes(row),axis=1)\n",
        "'''\n",
        "import shutil\n",
        "import os, glob\n",
        "for filename in glob.glob('/content/drive/My Drive/Colab Notebooks/kaggle/steel defect/validation_images/*.jpg'):\n",
        "    shutil.move(filename,'/content/drive/My Drive/Colab Notebooks/kaggle/steel defect/validation_images/original_validation_images') \n",
        "'''"
      ],
      "execution_count": 37,
      "outputs": [
        {
          "output_type": "execute_result",
          "data": {
            "text/plain": [
              "\"\\nimport shutil\\nimport os, glob\\nfor filename in glob.glob('/content/drive/My Drive/Colab Notebooks/kaggle/steel defect/validation_images/*.jpg'):\\n    shutil.move(filename,'/content/drive/My Drive/Colab Notebooks/kaggle/steel defect/validation_images/original_validation_images') \\n\""
            ]
          },
          "metadata": {
            "tags": []
          },
          "execution_count": 37
        }
      ]
    },
    {
      "cell_type": "markdown",
      "metadata": {
        "id": "dwxgI8X8EjeL",
        "colab_type": "text"
      },
      "source": [
        "# The following part cells are pratices about adding the defect masks on the images based on decoded defects pixels with a different color. "
      ]
    },
    {
      "cell_type": "code",
      "metadata": {
        "id": "YipqGVWsYygB",
        "colab_type": "code",
        "colab": {}
      },
      "source": [
        "import matplotlib.pyplot as plt \n",
        "import matplotlib.image as mpimg\n",
        "import numpy as np \n",
        "\n",
        "image_path = os.getcwd\n",
        "img = mpimg.imread(image_path+'/train_images/12c0b2b5c.jpg')\n",
        "#print(img)\n",
        "plt.imshow(img)\n",
        "img.shape[0],img.shape[1]\n",
        "img_2d=img.reshape(256*1600,3,order='F')\n",
        "img_2d[256*1600-1,:]"
      ],
      "execution_count": 0,
      "outputs": []
    },
    {
      "cell_type": "code",
      "metadata": {
        "id": "pkRURkukV5B2",
        "colab_type": "code",
        "colab": {}
      },
      "source": [
        "\n",
        "img_2d=img.reshape(256*1600,3,order='F')\n",
        "tmp_copy = np.copy(img_2d)\n",
        "print (tmp_copy.flags)\n",
        "tmp_copy[x_train_completepixels['CompletePixels'][7]]=[0,120,215]\n",
        "tmp_copy=tmp_copy.reshape(256,1600,3,order='F')\n",
        "\n",
        "import imageio\n",
        "imageio.imwrite(image_path+'/test.jpg', tmp_copy)\n",
        "#plt.imshow(tmp_copy)\n",
        "#tmp_copy=img_2d\n",
        "#print (tmp_copy.flags)"
      ],
      "execution_count": 0,
      "outputs": []
    },
    {
      "cell_type": "code",
      "metadata": {
        "id": "j8OepWaIf9_n",
        "colab_type": "code",
        "colab": {}
      },
      "source": [
        "mpimg.imsave(image_path+'/train_images/tmp_copy.jpg',tmp_copy)\n",
        "xxxxx = mpimg.imread(image_path+'/train_images/tmp_copy.jpg')\n",
        "plt.imshow(xxxxx)"
      ],
      "execution_count": 0,
      "outputs": []
    },
    {
      "cell_type": "code",
      "metadata": {
        "id": "ufxSf0Mb-dRB",
        "colab_type": "code",
        "colab": {}
      },
      "source": [
        "img_2d=img.reshape(256*1600,3,order='F')\n",
        "print (img_2d.shape)\n",
        "print (type(img_2d))"
      ],
      "execution_count": 0,
      "outputs": []
    },
    {
      "cell_type": "markdown",
      "metadata": {
        "id": "yvmzdxv_aeLH",
        "colab_type": "text"
      },
      "source": [
        "practice the numpy array reshape "
      ]
    },
    {
      "cell_type": "code",
      "metadata": {
        "id": "nNzSvfcXKfdJ",
        "colab_type": "code",
        "colab": {}
      },
      "source": [
        "import numpy as np \n",
        "\n",
        "ftmp=np.zeros((1600*256,3),dtype=int)\n",
        "ftmp[x_train_completepixels['CompletePixels'][4]]=[0,120,215]\n",
        "#tmp=img_2d\n",
        "\n",
        "#tmp.setflags(write=True)\n",
        "print (ftmp.flags)\n",
        "ftmp=ftmp.reshape(256,1600,3,order='C')\n",
        "print (ftmp.flags)\n",
        "\n",
        "plt.imshow(ftmp)\n"
      ],
      "execution_count": 0,
      "outputs": []
    },
    {
      "cell_type": "code",
      "metadata": {
        "id": "J1E7BFd_ky7t",
        "colab_type": "code",
        "colab": {}
      },
      "source": [
        "x_train_completepixels['CompletePixels'][4]"
      ],
      "execution_count": 0,
      "outputs": []
    },
    {
      "cell_type": "code",
      "metadata": {
        "id": "ZAqXNhR_JdJY",
        "colab_type": "code",
        "colab": {}
      },
      "source": [
        "np.put(img_2d,[x_train_completepixels['CompletePixels'][4],[0,120,215])"
      ],
      "execution_count": 0,
      "outputs": []
    },
    {
      "cell_type": "code",
      "metadata": {
        "id": "0nMI2O3lKEXW",
        "colab_type": "code",
        "colab": {}
      },
      "source": [
        "x_train_completepixels['CompletePixels'][4][0]"
      ],
      "execution_count": 0,
      "outputs": []
    },
    {
      "cell_type": "code",
      "metadata": {
        "id": "DrBVuzFOwoHh",
        "colab_type": "code",
        "colab": {}
      },
      "source": [
        "mask_image[x_train_completepixels['CompletePixels'][0]]=50\n",
        "mask = mask_image.reshape(1600,256).T\n",
        "plt.imshow(mask)"
      ],
      "execution_count": 0,
      "outputs": []
    },
    {
      "cell_type": "code",
      "metadata": {
        "id": "MXw1VEqj_HVM",
        "colab_type": "code",
        "colab": {}
      },
      "source": [
        "a = np.arange(6).reshape((3, 2))\n",
        "a"
      ],
      "execution_count": 0,
      "outputs": []
    },
    {
      "cell_type": "code",
      "metadata": {
        "id": "_ki0EEPuMOnt",
        "colab_type": "code",
        "colab": {}
      },
      "source": [
        "b=a.reshape(2*3,order='C')\n",
        "b"
      ],
      "execution_count": 0,
      "outputs": []
    },
    {
      "cell_type": "code",
      "metadata": {
        "id": "fk0f6D0Ebc3E",
        "colab_type": "code",
        "colab": {}
      },
      "source": [
        "b=a.reshape(2*3,order='F')\n",
        "b"
      ],
      "execution_count": 0,
      "outputs": []
    },
    {
      "cell_type": "code",
      "metadata": {
        "id": "XqCJgZeHeW4u",
        "colab_type": "code",
        "colab": {}
      },
      "source": [
        "b=a.reshape(2*3)\n",
        "b"
      ],
      "execution_count": 0,
      "outputs": []
    },
    {
      "cell_type": "code",
      "metadata": {
        "id": "WbvaqLG4s5mo",
        "colab_type": "code",
        "colab": {}
      },
      "source": [
        "img_2d=img.reshape(256*1600,3,order='C')\n",
        "print (img_2d.shape)\n",
        "print (type(img_2d))"
      ],
      "execution_count": 0,
      "outputs": []
    },
    {
      "cell_type": "code",
      "metadata": {
        "id": "LRSEp85veeQi",
        "colab_type": "code",
        "colab": {}
      },
      "source": [
        "img[int(30114/1600),int(30114%1600)]"
      ],
      "execution_count": 0,
      "outputs": []
    },
    {
      "cell_type": "code",
      "metadata": {
        "id": "ryNPg30GrEmo",
        "colab_type": "code",
        "colab": {}
      },
      "source": [
        "img_2d[30114]"
      ],
      "execution_count": 0,
      "outputs": []
    },
    {
      "cell_type": "code",
      "metadata": {
        "id": "RAz0udyQx5Qo",
        "colab_type": "code",
        "colab": {}
      },
      "source": [
        "tmp_copy_2d = tmp_copy.reshape(256*1600,3,order='C')\n",
        "print (tmp_copy_2d[18661])\n",
        "print (tmp_copy[int(18661/1600),int(18661%1600)])"
      ],
      "execution_count": 0,
      "outputs": []
    },
    {
      "cell_type": "code",
      "metadata": {
        "id": "hz9dkJHer0HI",
        "colab_type": "code",
        "colab": {}
      },
      "source": [
        "print (29101%1600,29101/1600)"
      ],
      "execution_count": 0,
      "outputs": []
    },
    {
      "cell_type": "code",
      "metadata": {
        "id": "nV23h2jQeqwz",
        "colab_type": "code",
        "colab": {}
      },
      "source": [
        "a=np.array([[[1,1,1],[2,2,2],[3,3,3]],[[4,4,4],[5,5,5],[6,6,6]]])\n",
        "print (a.shape)\n",
        "b=a.reshape(2*3,3,order='C')\n",
        "print (b.shape)\n",
        "b"
      ],
      "execution_count": 0,
      "outputs": []
    },
    {
      "cell_type": "code",
      "metadata": {
        "id": "l5ZMNHx7tSlJ",
        "colab_type": "code",
        "colab": {}
      },
      "source": [
        "m = 2\n",
        "ax=int(m/3)\n",
        "ay=int(m%3)\n",
        "print (ax,ay)\n",
        "print (a[ax,ay])\n",
        "print (b[m])"
      ],
      "execution_count": 0,
      "outputs": []
    },
    {
      "cell_type": "code",
      "metadata": {
        "id": "gN51vRLvf9ss",
        "colab_type": "code",
        "outputId": "306e138b-67be-4496-8cfd-b4027bb1b4c4",
        "colab": {
          "base_uri": "https://localhost:8080/",
          "height": 121
        }
      },
      "source": [
        "import matplotlib.pyplot as plt \n",
        "import matplotlib.image as mpimg\n",
        "import numpy as np \n",
        "\n",
        "image_path = os.getcwd()\n",
        "img = mpimg.imread(image_path+'/total_train_images_with_defected_mask/Class_1/0a4ad45a5.jpg')\n",
        "#print(img)\n",
        "plt.imshow(img)"
      ],
      "execution_count": 0,
      "outputs": [
        {
          "output_type": "execute_result",
          "data": {
            "text/plain": [
              "<matplotlib.image.AxesImage at 0x7f2572e0cf28>"
            ]
          },
          "metadata": {
            "tags": []
          },
          "execution_count": 28
        },
        {
          "output_type": "display_data",
          "data": {
            "image/png": "[encoded data removed]",
            "text/plain": [
              "<Figure size 432x288 with 1 Axes>"
            ]
          },
          "metadata": {
            "tags": []
          }
        }
      ]
    },
    {
      "cell_type": "code",
      "metadata": {
        "id": "RPCb-45nh0-o",
        "colab_type": "code",
        "outputId": "645f870d-adfa-4000-f814-c3606abf5deb",
        "colab": {
          "base_uri": "https://localhost:8080/",
          "height": 33
        }
      },
      "source": [
        "img.shape"
      ],
      "execution_count": 0,
      "outputs": [
        {
          "output_type": "execute_result",
          "data": {
            "text/plain": [
              "(256, 1600, 3)"
            ]
          },
          "metadata": {
            "tags": []
          },
          "execution_count": 30
        }
      ]
    },
    {
      "cell_type": "code",
      "metadata": {
        "id": "EhcgpPGl-_8V",
        "colab_type": "code",
        "colab": {}
      },
      "source": [
        ""
      ],
      "execution_count": 0,
      "outputs": []
    }
  ]
}